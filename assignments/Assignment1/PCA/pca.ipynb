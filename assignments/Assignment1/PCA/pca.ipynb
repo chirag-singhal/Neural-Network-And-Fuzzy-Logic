{
 "cells": [
  {
   "cell_type": "markdown",
   "metadata": {
    "deletable": false,
    "editable": false,
    "nbgrader": {
     "cell_type": "markdown",
     "checksum": "9c0cd22af44e289087ce960aafd76dbe",
     "grade": false,
     "grade_id": "cell-9fc7db9f36897a2c",
     "locked": true,
     "schema_version": 3,
     "solution": false
    }
   },
   "source": [
    "# Assignment 1 \n",
    "### Neural Networks and Fuzzy Logic (2nd Semester 2019-2020)\n",
    "\n",
    "### Instructions:\n",
    "This assignment is designed to check your understanding of linear algebra, assuming you have basic knowlegde of Linear Algebra, this assignment will introudce you to some high level tasks in Linear Algebra, and what's the fun part about it? You'll be implemnting those concepts and visualizing them!! So Let's start.\n",
    "\n",
    "#### Key Concepts: Matrix Inverse, Linear Transforms, Eigendecomposition and all the interesting stuff Linear Algebra has :)\n",
    "\n",
    "##### Please make sure you adhere to the policy of originality of your work, the assignment should reflect your understanding and should be your original, cases of plagiarism will be strictly dealt with as per institute norms. The penalties can include debarrment from the course and registration for the next semester.\n",
    "\n",
    "# Matrices as linear transformations\n",
    "\n",
    "Matrices can be viewed as linear transformations you 'apply' to vectors. Some matrices will rotate your space, others will rescale it etc. So when we apply a matrix to a vector, we end up with a transformed version of the vector. When we say that we 'apply' the matrix to the vector it means that we calculate the dot product of the matrix with the vector. We will start with a basic example of this kind of transformation."
   ]
  },
  {
   "cell_type": "code",
   "execution_count": 6,
   "metadata": {
    "deletable": false,
    "editable": false,
    "nbgrader": {
     "cell_type": "code",
     "checksum": "1d07f7cc18d1b9111ddfce76625d7654",
     "grade": false,
     "grade_id": "cell-19c0e98f3e95828d",
     "locked": true,
     "schema_version": 3,
     "solution": false
    }
   },
   "outputs": [],
   "source": [
    "#No other imports are allowed !!!\n",
    "import numpy as np\n",
    "import matplotlib.pyplot as plt\n",
    "import pandas as pd"
   ]
  },
  {
   "cell_type": "code",
   "execution_count": 7,
   "metadata": {
    "deletable": false,
    "editable": false,
    "nbgrader": {
     "cell_type": "code",
     "checksum": "0cddbe74f372f23be7efbc343bbc7e0e",
     "grade": false,
     "grade_id": "cell-b9af1226de0620a9",
     "locked": true,
     "schema_version": 3,
     "solution": false
    }
   },
   "outputs": [],
   "source": [
    "#utility function, please don't alter this\n",
    "def plot_vectors(vectors, cols, alpha=1):\n",
    "    \"\"\"\n",
    "    Plot set of vectors.\n",
    "    Parameters\n",
    "    ----------\n",
    "    vectors : array-like\n",
    "        Coordinates of the vectors to plot. Each vectors is in an array. For\n",
    "        instance: [[1, 3], [2, 2]] can be used to plot 2 vectors.\n",
    "    cols : array-like\n",
    "        Colors of the vectors. For instance: ['green', 'red'] will display the\n",
    "        first vector in green and the second in red.\n",
    "    alpha : float\n",
    "        Opacity of vectors\n",
    "    Returns:\n",
    "    fig : instance of matplotlib.figure.Figure\n",
    "        The figure of the vectors\n",
    "    \"\"\"\n",
    "    plt.axvline(x=0, color='#A9A9A9', zorder=0)\n",
    "    plt.axhline(y=0, color='#A9A9A9', zorder=0)\n",
    "\n",
    "    for i in range(len(vectors)):\n",
    "        if (isinstance(alpha, list)):\n",
    "            alpha_i = alpha[i]\n",
    "        else:\n",
    "            alpha_i = alpha\n",
    "        x = np.concatenate([[0,0],vectors[i]])\n",
    "        plt.quiver([x[0]],\n",
    "                   [x[1]],\n",
    "                   [x[2]],\n",
    "                   [x[3]],\n",
    "                   angles='xy', scale_units='xy', scale=1, color=cols[i],\n",
    "                  alpha=alpha_i)"
   ]
  },
  {
   "cell_type": "code",
   "execution_count": 8,
   "metadata": {
    "deletable": false,
    "editable": false,
    "nbgrader": {
     "cell_type": "code",
     "checksum": "c819583966262a1a3f13e8cbc47754a0",
     "grade": false,
     "grade_id": "cell-ce702182a2c41123",
     "locked": true,
     "schema_version": 3,
     "solution": false
    }
   },
   "outputs": [
    {
     "name": "stdout",
     "output_type": "stream",
     "text": [
      "[[1 3]\n",
      " [2 6]]\n",
      "(2, 2)\n"
     ]
    }
   ],
   "source": [
    "A = np.array([[1, 3], [2, 6]])\n",
    "print(A)\n",
    "print(A.shape)"
   ]
  },
  {
   "cell_type": "code",
   "execution_count": 9,
   "metadata": {
    "deletable": false,
    "editable": false,
    "nbgrader": {
     "cell_type": "code",
     "checksum": "a59a44ea2e8fbd374c9653f42715e8d5",
     "grade": false,
     "grade_id": "cell-1f315bf803194fcb",
     "locked": true,
     "schema_version": 3,
     "solution": false
    }
   },
   "outputs": [
    {
     "name": "stdout",
     "output_type": "stream",
     "text": [
      "[[5]\n",
      " [3]]\n",
      "(2, 1)\n"
     ]
    }
   ],
   "source": [
    "v = np.array([[5], [3]])\n",
    "print(v)\n",
    "print(v.shape)"
   ]
  },
  {
   "cell_type": "code",
   "execution_count": 10,
   "metadata": {
    "deletable": false,
    "editable": false,
    "nbgrader": {
     "cell_type": "code",
     "checksum": "477effa793e0ba82f9fd5d2d6ae3b56b",
     "grade": false,
     "grade_id": "cell-3984d8d6d889d8c6",
     "locked": true,
     "schema_version": 3,
     "solution": false
    }
   },
   "outputs": [
    {
     "data": {
      "image/png": "[encoded data removed]",
      "text/plain": [
       "<Figure size 432x288 with 1 Axes>"
      ]
     },
     "metadata": {
      "needs_background": "light"
     },
     "output_type": "display_data"
    }
   ],
   "source": [
    "plot_vectors([v.flatten()],['red'])\n",
    "plt.ylim(0, 6)\n",
    "plt.xlim(0, 6)\n",
    "plt.show()"
   ]
  },
  {
   "cell_type": "markdown",
   "metadata": {
    "deletable": false,
    "editable": false,
    "nbgrader": {
     "cell_type": "markdown",
     "checksum": "474c75330b748794e91590322b2ff288",
     "grade": false,
     "grade_id": "cell-58de14d42535ed42",
     "locked": true,
     "schema_version": 3,
     "solution": false
    }
   },
   "source": [
    "**Inline Question**: did you see that v is flattened before plotting? why do we need to do that? Check out the code for plot_vectors and try to answer this? <br>"
   ]
  },
  {
   "cell_type": "markdown",
   "metadata": {
    "deletable": false,
    "nbgrader": {
     "cell_type": "markdown",
     "checksum": "d8dad74210d6810270db64592d74a25c",
     "grade": true,
     "grade_id": "cell-89c617592276dccd",
     "locked": false,
     "points": 1,
     "schema_version": 3,
     "solution": true
    }
   },
   "source": [
    "YOUR ANSWER HERE"
   ]
  },
  {
   "cell_type": "code",
   "execution_count": 11,
   "metadata": {
    "deletable": false,
    "nbgrader": {
     "cell_type": "code",
     "checksum": "92a21b3ae6b8f0049ba006b0584a9995",
     "grade": false,
     "grade_id": "cell-8c70805160037e04",
     "locked": false,
     "schema_version": 3,
     "solution": true
    }
   },
   "outputs": [],
   "source": [
    "def apply_linear_transform(A,v):\n",
    "    '''\n",
    "    Apply the linear transformation on v by a matrix A\n",
    "    return the transformed matrix (Av)\n",
    "    '''\n",
    "    # YOUR CODE HERE\n",
    "    transformed_matrix = A.dot(v)\n",
    "    return transformed_matrix"
   ]
  },
  {
   "cell_type": "code",
   "execution_count": 12,
   "metadata": {
    "deletable": false,
    "editable": false,
    "nbgrader": {
     "cell_type": "code",
     "checksum": "db6fa04b7549337874847724f11a2dd0",
     "grade": true,
     "grade_id": "cell-4f7d4f29ea739491",
     "locked": true,
     "points": 1,
     "schema_version": 3,
     "solution": false
    }
   },
   "outputs": [],
   "source": [
    "#DO NOT ALTER THIS CELL\n",
    "#HIDDEN TEST CASES FOR apply_linear_transform"
   ]
  },
  {
   "cell_type": "code",
   "execution_count": 13,
   "metadata": {
    "deletable": false,
    "editable": false,
    "nbgrader": {
     "cell_type": "code",
     "checksum": "0d64be830d279d216325e00eca6c52bd",
     "grade": false,
     "grade_id": "cell-3caec98ae0f9b128",
     "locked": true,
     "schema_version": 3,
     "solution": false,
     "task": false
    }
   },
   "outputs": [
    {
     "data": {
      "image/png": "[encoded data removed]",
      "text/plain": [
       "<Figure size 432x288 with 1 Axes>"
      ]
     },
     "metadata": {
      "needs_background": "light"
     },
     "output_type": "display_data"
    }
   ],
   "source": [
    "\n",
    "# Let us visualize the transformation on vector v by a matrix A as mentioned above\n",
    "transformed_vector = apply_linear_transform(A,v)\n",
    "plot_vectors([v.flatten(), transformed_vector.flatten()],cols=['red','green'])\n",
    "plt.ylim(0, 6)\n",
    "plt.xlim(0, 6)\n",
    "plt.show()"
   ]
  },
  {
   "cell_type": "markdown",
   "metadata": {
    "deletable": false,
    "editable": false,
    "nbgrader": {
     "cell_type": "markdown",
     "checksum": "8bf816abe41fec75935c39a77031a575",
     "grade": false,
     "grade_id": "cell-90ab2f47fb9ba388",
     "locked": true,
     "schema_version": 3,
     "solution": false
    }
   },
   "source": [
    "## Eigendecomposition\n",
    "\n",
    "We have seen an example of a vector transformed by a matrix. Now imagine that the transformation of the initial vector gives us a new vector that has the exact same direction. The scale can be different but the direction is the same. Applying the matrix didn't change the direction of the vector. This special vector is called an eigenvector of the matrix. We will see that finding the eigenvectors of a matrix can be very useful.\n",
    "\n",
    "<span class='pquote'>\n",
    "    Imagine that the transformation of the initial vector by the matrix gives a new vector with the exact same direction. This vector is called an eigenvector of ${A}$.\n",
    "</span>\n",
    "\n",
    "This means that ${v}$ is a eigenvector of ${A}$ if ${v}$ and ${Av}$ are in the same direction or to rephrase it if the vectors ${Av}$ and ${v}$ are parallel. The output vector is just a scaled version of the input vector. This scalling factor is $\\lambda$ which is called the **eigenvalue** of ${A}$.\n",
    "\n",
    "$$\n",
    "{Av} = \\lambda{v}\n",
    "$$\n",
    "\n",
    "Talking in terms of eigen values and eigen vector the eigen decomposition of a matrix looks like the following:\n",
    "\n",
    "$$\n",
    "{A}= {V}\\cdot{diag}({\\lambda})\\cdot{V}^{-1}\n",
    "$$\n",
    "\n",
    "We will also verify this property of eigendecomposition.\n",
    "\n",
    "Eigen decomposition is a crucial step for PCA (introduced later)\n",
    "\n",
    "Let's begin!!"
   ]
  },
  {
   "cell_type": "code",
   "execution_count": 14,
   "metadata": {
    "deletable": false,
    "nbgrader": {
     "cell_type": "code",
     "checksum": "d3bedacf3ed72bf09f17f3529adc7206",
     "grade": false,
     "grade_id": "cell-947cfea731ce6537",
     "locked": false,
     "schema_version": 3,
     "solution": true
    }
   },
   "outputs": [],
   "source": [
    "def find_eigen_decomposition(matrix):\n",
    "    '''\n",
    "    use numpy to find the eigen decomposition of the matrix\n",
    "    returns eigenValues and the eigenVectors\n",
    "    '''\n",
    "    # YOUR CODE HERE\n",
    "    #print(np.linalg.eig(matrix))\n",
    "    eigenval, eigenvec = np.linalg.eig(matrix)\n",
    "    return eigenval, eigenvec"
   ]
  },
  {
   "cell_type": "code",
   "execution_count": 15,
   "metadata": {
    "deletable": false,
    "editable": false,
    "nbgrader": {
     "cell_type": "code",
     "checksum": "1bd343f66f632c973e45c91594cd6c95",
     "grade": true,
     "grade_id": "cell-9e1377220b4336dd",
     "locked": true,
     "points": 1,
     "schema_version": 3,
     "solution": false
    }
   },
   "outputs": [],
   "source": [
    "#DO NOT ALTER THIS CELL\n",
    "#HIDDEN TEST CASES FOR find_eigen_decomposition\n"
   ]
  },
  {
   "cell_type": "code",
   "execution_count": 16,
   "metadata": {
    "deletable": false,
    "nbgrader": {
     "cell_type": "code",
     "checksum": "21a973dfa18f0e2f341a643bfe075f36",
     "grade": false,
     "grade_id": "cell-b7f2c7683aef8586",
     "locked": false,
     "schema_version": 3,
     "solution": true
    }
   },
   "outputs": [],
   "source": [
    "def verify_eigen_decomposition(matrix,eigen_values,eigen_vectors):\n",
    "    \n",
    "    '''\n",
    "    verify the eigen decomposition property of matrix\n",
    "    return the recontsructed matrix using the property of eigen vectors and eigenvalues\n",
    "    '''\n",
    "    # YOUR CODE HERE\n",
    "    eigen_vec_inverse = np.linalg.inv(eigen_vectors)\n",
    "    diagonal_eigen_val = np.diag(eigen_values)\n",
    "    reconstruct_matrix = eigen_vectors.dot(diagonal_eigen_val).dot(eigen_vec_inverse)\n",
    "    return reconstruct_matrix"
   ]
  },
  {
   "cell_type": "code",
   "execution_count": 17,
   "metadata": {},
   "outputs": [
    {
     "name": "stdout",
     "output_type": "stream",
     "text": [
      "(array([0., 7.]), array([[-0.9486833 , -0.4472136 ],\n",
      "       [ 0.31622777, -0.89442719]]))\n"
     ]
    }
   ],
   "source": [
    "print(np.linalg.eig(A))"
   ]
  },
  {
   "cell_type": "code",
   "execution_count": 18,
   "metadata": {
    "deletable": false,
    "editable": false,
    "nbgrader": {
     "cell_type": "code",
     "checksum": "ecd71ed2c1d38f6f652e298608e4bf91",
     "grade": true,
     "grade_id": "cell-ca924fb2cbe495d7",
     "locked": true,
     "points": 1,
     "schema_version": 3,
     "solution": false,
     "task": false
    }
   },
   "outputs": [],
   "source": [
    "#DO NOT ALTER THIS CELL\n",
    "#HIDDEN TEST CASES FOR verify_eigen_decomposition\n"
   ]
  },
  {
   "cell_type": "markdown",
   "metadata": {
    "nbgrader": {
     "grade": false,
     "grade_id": "cell-dd8a48317889d004",
     "locked": false,
     "schema_version": 3,
     "solution": false,
     "task": false
    }
   },
   "source": [
    "## Principal Component Analysis\n",
    "Handling Dimensions is very important in Machine Leanring. The dimensions are all the features of the dataset. For instance, if you are looking at a dataset containing pieces of music, dimensions could be the genre, the length of the piece, the number of instruments, the presence of a singer etc. You can imagine all these dimensions as different columns. When there is only two dimensions, it is very convenient to plot: you can use the $x$ - and  $y$ -axis. Add color and you can represent a third dimension. It is similar if you have tens or hundereds of dimensions, it will just be harder to visualize it.\n",
    "\n",
    "When you have that many dimensions it happens that some of them are correlated. For instance, we can reasonably think that the genre dimension will correlate with the instruments dimensions in our previous example. One way to reduce dimensionality is simply to keep only some of them. The problem is that you loose good information. It would be nice to have a way to reduce these dimensions while keeping all the information present in the data set.\n",
    "\n",
    "The aim of principal components analysis (PCA) is generaly to reduce the number of dimensions of a dataset where dimensions are not completly decorelated. PCA provides us with a new set of dimensions, the principal components (PC).\n",
    "\n",
    "Step-wise PCA is:\n",
    "\n",
    "1) Center the data <br>\n",
    "2) Find the covariance matrix <br>\n",
    "3) Find the Eigen Decompostion <br>\n",
    "4) Choose the principal components <br>\n",
    "5) Find the new dataset Matrix <br>\n",
    "\n",
    "Following [article](https://towardsdatascience.com/a-one-stop-shop-for-principal-component-analysis-5582fb7e0a9c) also explains PCA very well.\n",
    "Let's implement PCA to get an essence of how dimensions can be reduced, you need to implement the function one by one!"
   ]
  },
  {
   "cell_type": "code",
   "execution_count": 19,
   "metadata": {
    "deletable": false,
    "editable": false,
    "nbgrader": {
     "cell_type": "code",
     "checksum": "5e1c040db26dd75c1b0179c45eb4d9b9",
     "grade": false,
     "grade_id": "cell-50d014c7204eab60",
     "locked": true,
     "schema_version": 3,
     "solution": false
    }
   },
   "outputs": [],
   "source": [
    "\n",
    "x = 5*np.random.rand(100)\n",
    "y = 2*x + 1 + np.random.randn(100)\n",
    "\n",
    "#the two dimensions of our dataset\n",
    "x = x.reshape(100, 1)\n",
    "y = y.reshape(100, 1)\n",
    "\n",
    "#The dataset matrix\n",
    "X = np.hstack([x, y])"
   ]
  },
  {
   "cell_type": "code",
   "execution_count": 20,
   "metadata": {
    "deletable": false,
    "editable": false,
    "nbgrader": {
     "cell_type": "code",
     "checksum": "5a4ff28baf3be6d4e0807cce58e01139",
     "grade": false,
     "grade_id": "cell-7a4b70ccb4531995",
     "locked": true,
     "schema_version": 3,
     "solution": false,
     "task": false
    }
   },
   "outputs": [
    {
     "data": {
      "image/png": "[encoded data removed]",
      "text/plain": [
       "<Figure size 432x288 with 1 Axes>"
      ]
     },
     "metadata": {
      "needs_background": "light"
     },
     "output_type": "display_data"
    }
   ],
   "source": [
    "plt.plot(X[:,0],X[:,1],'.')\n",
    "plt.show()"
   ]
  },
  {
   "cell_type": "code",
   "execution_count": 21,
   "metadata": {
    "deletable": false,
    "nbgrader": {
     "cell_type": "code",
     "checksum": "abe15e41d63dee280ad092c30fb473d8",
     "grade": false,
     "grade_id": "cell-4aace02eb82ebd5c",
     "locked": false,
     "schema_version": 3,
     "solution": true
    }
   },
   "outputs": [],
   "source": [
    "def center(X):\n",
    "    '''\n",
    "    function to center the data around the mean\n",
    "    modify the return value to return the modified matrix\n",
    "    '''\n",
    "    # YOUR CODE HERE\n",
    "    Y = X.copy()\n",
    "    Y = Y - np.mean(Y, axis = 0)\n",
    "    return Y"
   ]
  },
  {
   "cell_type": "code",
   "execution_count": 22,
   "metadata": {
    "deletable": false,
    "editable": false,
    "nbgrader": {
     "cell_type": "code",
     "checksum": "e93896f256cb6a27066e483567cc4d76",
     "grade": true,
     "grade_id": "cell-9e373b3dc8185259",
     "locked": true,
     "points": 1,
     "schema_version": 3,
     "solution": false,
     "task": false
    }
   },
   "outputs": [],
   "source": [
    "#DO NOT ALTER THIS CELL\n",
    "#HIDDEN TEST CASES FOR center\n"
   ]
  },
  {
   "cell_type": "code",
   "execution_count": 23,
   "metadata": {
    "deletable": false,
    "nbgrader": {
     "cell_type": "code",
     "checksum": "ac41b61dce69774d25b8d173170a0c54",
     "grade": false,
     "grade_id": "cell-f2ba4844ba63791f",
     "locked": false,
     "schema_version": 3,
     "solution": true
    }
   },
   "outputs": [],
   "source": [
    "def find_covariance_matrix(X):\n",
    "    '''\n",
    "    Find the covariance matrix of X\n",
    "    USE only the following formula for covariance: 1/M dot_product(transpose(X),X) where X is MxN\n",
    "    M is the number of observations and N is the number of features and X is column centered.\n",
    "    Return the final matrix\n",
    "    '''\n",
    "    \n",
    "    # YOUR CODE HERE\n",
    "    M, N = X.shape\n",
    "    covariance_matrix = X.T.dot(X) / M\n",
    "    return covariance_matrix"
   ]
  },
  {
   "cell_type": "code",
   "execution_count": 24,
   "metadata": {
    "deletable": false,
    "editable": false,
    "nbgrader": {
     "cell_type": "code",
     "checksum": "ee40481ac450156539c8728475a0ba7d",
     "grade": true,
     "grade_id": "cell-23455edbef9a7b84",
     "locked": true,
     "points": 1,
     "schema_version": 3,
     "solution": false,
     "task": false
    }
   },
   "outputs": [],
   "source": [
    "#DO NOT ALTER THIS CELL\n",
    "#HIDDEN TEST CASES FOR find_covariance_matrix\n"
   ]
  },
  {
   "cell_type": "markdown",
   "metadata": {
    "deletable": false,
    "editable": false,
    "nbgrader": {
     "cell_type": "markdown",
     "checksum": "cd402e4e6d41faa8bcd5f7f8a8946963",
     "grade": false,
     "grade_id": "cell-dabaa22556056316",
     "locked": true,
     "schema_version": 3,
     "solution": false
    }
   },
   "source": [
    "Now let's plot the centered data and the eigen vectors in the same figure"
   ]
  },
  {
   "cell_type": "code",
   "execution_count": 25,
   "metadata": {
    "deletable": false,
    "editable": false,
    "nbgrader": {
     "cell_type": "code",
     "checksum": "ca0ad2598f45eae9f8ae9ffca974c656",
     "grade": false,
     "grade_id": "cell-86b9c744415dd515",
     "locked": true,
     "schema_version": 3,
     "solution": false,
     "task": false
    }
   },
   "outputs": [
    {
     "data": {
      "image/png": "[encoded data removed]",
      "text/plain": [
       "<Figure size 432x288 with 1 Axes>"
      ]
     },
     "metadata": {
      "needs_background": "light"
     },
     "output_type": "display_data"
    }
   ],
   "source": [
    "# We will use the simulated X, the one we generated in one of the above cells\n",
    "X_centered = center(X)\n",
    "covariance = find_covariance_matrix(X_centered)\n",
    "eigenVals, eigenVecs = find_eigen_decomposition(covariance)\n",
    "\n",
    "plot_vectors(eigenVecs, ['red', 'blue'])\n",
    "plt.plot(X_centered[:,0], X_centered[:,1], '*')\n",
    "plt.xlim(-3, 3)\n",
    "plt.ylim(-3, 3)\n",
    "plt.show()"
   ]
  },
  {
   "cell_type": "code",
   "execution_count": 26,
   "metadata": {
    "deletable": false,
    "nbgrader": {
     "cell_type": "code",
     "checksum": "5120ee7bfb5d6787a4fd75141f6b9c0e",
     "grade": false,
     "grade_id": "cell-365c5fe2dd253c56",
     "locked": false,
     "schema_version": 3,
     "solution": true
    }
   },
   "outputs": [],
   "source": [
    "def two_dimensional_pca(X_centered, eigenValues, eigenVecs):\n",
    "    '''\n",
    "    using X_centered, eigenValues, eigenVecs as obtained above\n",
    "    apply pca on X_centered and chose the principal component\n",
    "    return the new matrix\n",
    "    '''\n",
    "    \n",
    "    # YOUR CODE HERE\n",
    "    eigenvec_sorted = eigenVecs[:, eigenValues.argsort()[::-1]]\n",
    "    print(eigenvec_sorted)\n",
    "    max_eigenvec = eigenvec_sorted[:, 0]\n",
    "    print(max_eigenvec)\n",
    "    transformed_X = apply_linear_transform(X_centered, max_eigenvec)\n",
    "    print(X_centered.shape, max_eigenvec.shape, transformed_X.shape)\n",
    "    return transformed_X\n",
    "    #return max_eigenvec"
   ]
  },
  {
   "cell_type": "code",
   "execution_count": 27,
   "metadata": {},
   "outputs": [
    {
     "name": "stdout",
     "output_type": "stream",
     "text": [
      "[[-0.41444129 -0.91007605]\n",
      " [-0.91007605  0.41444129]]\n",
      "[-0.41444129 -0.91007605]\n",
      "(100, 2) (2,) (100,)\n"
     ]
    },
    {
     "data": {
      "image/png": "[encoded data removed]",
      "text/plain": [
       "<Figure size 432x288 with 1 Axes>"
      ]
     },
     "metadata": {
      "needs_background": "light"
     },
     "output_type": "display_data"
    }
   ],
   "source": [
    "X = two_dimensional_pca(X_centered, eigenVals, eigenVecs)\n",
    "plt.plot(X[:], np.zeros(100), '*')\n",
    "plt.xlim(-3, 3)\n",
    "plot_vectors(eigenVecs, ['red', 'blue'])\n",
    "plt.ylim(-3, 3)\n",
    "plt.show()"
   ]
  },
  {
   "cell_type": "code",
   "execution_count": 28,
   "metadata": {
    "deletable": false,
    "editable": false,
    "nbgrader": {
     "cell_type": "code",
     "checksum": "a3c3ec87ba2efe2ad8f0e89335e85cee",
     "grade": true,
     "grade_id": "cell-f8a28e82ea7c8e1d",
     "locked": true,
     "points": 1,
     "schema_version": 3,
     "solution": false
    }
   },
   "outputs": [],
   "source": [
    "#DO NOT ALTER THIS CELL\n",
    "#HIDDEN TEST CASES FOR two_dimensional_pca on the data X created in the above cells\n"
   ]
  },
  {
   "cell_type": "markdown",
   "metadata": {
    "deletable": false,
    "editable": false,
    "nbgrader": {
     "cell_type": "markdown",
     "checksum": "e349cf0eb519590263227486b4b820fd",
     "grade": false,
     "grade_id": "cell-bae36247dbb3680b",
     "locked": true,
     "schema_version": 3,
     "solution": false
    }
   },
   "source": [
    "**Inline Questions:** <br> \n",
    "1) Can you identify the color of the line which points to the direction of maximum variance? <br>\n",
    "2) Look at the Graph below and explain if PCA can be applied on this dataset or not? Do give reason. <br>\n",
    "3) Can you apply PCA to categorical variables? (Answer to this will give you hints for the next excercise)\n",
    "\n",
    "![Plot](images/pca_inline.png)"
   ]
  },
  {
   "cell_type": "markdown",
   "metadata": {
    "deletable": false,
    "editable": false,
    "nbgrader": {
     "cell_type": "markdown",
     "checksum": "71f5d795ba1e0c5fcae215a1bd3e8f3e",
     "grade": false,
     "grade_id": "cell-67cd484a33c21216",
     "locked": true,
     "points": 1,
     "schema_version": 3,
     "solution": false,
     "task": true
    }
   },
   "source": [
    "Answers:"
   ]
  },
  {
   "cell_type": "markdown",
   "metadata": {},
   "source": [
    "## PCA on a large dataset\n",
    "## About Dataset:\n",
    "Task: Reducing the dimesions for predicting house prices.\n",
    "The dataset is stored in the file **'data_pca.csv'**, it has 15 numerical columns and 2 categorical columns (columns are labeled as $X0$....$X16$), in an imaginary world, all these columns have certain significance towards prediciton of final house prices. Your task is simple, apply PCA to reduce the number of dimensions. \n",
    "\n",
    "Now implement the following functions for getting the final dataset with reduced dimensions. Keep the top $k (k=0...10)$ principal components."
   ]
  },
  {
   "cell_type": "code",
   "execution_count": 39,
   "metadata": {
    "deletable": false,
    "nbgrader": {
     "cell_type": "code",
     "checksum": "7ae882beb26b978293b685a386a4ff59",
     "grade": false,
     "grade_id": "cell-b2744694d03e082f",
     "locked": false,
     "schema_version": 3,
     "solution": true,
     "task": false
    }
   },
   "outputs": [],
   "source": [
    "def read_data(name):\n",
    "    '''\n",
    "    read the CSV file and return the corresponding dataframe\n",
    "    don't forget to remove the index column (check the name properly)\n",
    "    '''\n",
    "    # YOUR CODE HERE\n",
    "    data = pd.read_csv(name, index_col=0)\n",
    "    data.drop([data.columns[0], data.columns[15], data.columns[16]], axis=1, inplace=True)\n",
    "    return data"
   ]
  },
  {
   "cell_type": "code",
   "execution_count": 40,
   "metadata": {
    "deletable": false,
    "editable": false,
    "nbgrader": {
     "cell_type": "code",
     "checksum": "7b3d094409d62a877c7bf077e9cf42a8",
     "grade": true,
     "grade_id": "cell-7c4fe4ab88e97f99",
     "locked": true,
     "points": 1,
     "schema_version": 3,
     "solution": false
    }
   },
   "outputs": [],
   "source": [
    "#input the path top the CSV file\n",
    "#DO NOT ALTER THIS CELL\n",
    "#HIDDEN TEST CASES FOR read_data\n",
    "\n",
    "PATH_TO_CSV_FILE = './data_pca.csv'"
   ]
  },
  {
   "cell_type": "code",
   "execution_count": 57,
   "metadata": {
    "deletable": false,
    "nbgrader": {
     "cell_type": "code",
     "checksum": "753b8c8eddf09d81d8cf9890b402cd3e",
     "grade": false,
     "grade_id": "cell-b944aaa1481e4ea8",
     "locked": false,
     "schema_version": 3,
     "solution": true
    }
   },
   "outputs": [],
   "source": [
    "def apply_pca(data,k):\n",
    "    '''\n",
    "    data: a pandas data frame\n",
    "    Implement PCA on the dataset and return the transformed dataset as a pandas dataframe\n",
    "    keep k pricipal components\n",
    "    remember the dataset MUST have the chosen components and the columns you decide to exclude \n",
    "    from PCA calculation.\n",
    "    The returned dataframe should NOT have the index column\n",
    "    The returned dataframe should have similar column names as original and must be in the \n",
    "    SAME ORDER as in the original data, example : if X0 and X1 are chosen then X0 must appear\n",
    "    appear before X1 in the returned frame as it appears before in the original frame as well.\n",
    "    \n",
    "    Try to verify the function on your own :)\n",
    "    '''\n",
    "    # YOUR CODE HERE\n",
    "    X = data.to_numpy()\n",
    "    X_centered = center(X)\n",
    "    covariance = find_covariance_matrix(X_centered)\n",
    "    eigenVals, eigenVecs = find_eigen_decomposition(covariance)\n",
    "    eigenvec_sorted = eigenVecs[:, eigenVals.argsort()[::-1]]\n",
    "    #print(eigenvec_sorted)\n",
    "    max_eigenvec = eigenvec_sorted[:, 0:k]\n",
    "    #print(max_eigenvec)\n",
    "    transformed_X = apply_linear_transform(X_centered, max_eigenvec)\n",
    "    dataframe = pd.DataFrame(transformed_X, columns=['X' + str(i) for i in range(k)])\n",
    "    #print(X_centered.shape, max_eigenvec.shape, transformed_X.shape)\n",
    "    return dataframe"
   ]
  },
  {
   "cell_type": "code",
   "execution_count": 58,
   "metadata": {
    "deletable": false,
    "editable": false,
    "nbgrader": {
     "cell_type": "code",
     "checksum": "a03243ecad946cc792eaeaf6759cd40e",
     "grade": true,
     "grade_id": "cell-4db7e2b7485907b8",
     "locked": true,
     "points": 4,
     "schema_version": 3,
     "solution": false
    }
   },
   "outputs": [],
   "source": [
    "PATH_TO_CSV_FILE = './data_pca.csv'\n",
    "data = pd.read_csv(PATH_TO_CSV_FILE)\n",
    "#DO NOT ALTER THIS CELL\n",
    "#HIDDEN TEST CASES FOR apply_pca"
   ]
  },
  {
   "cell_type": "code",
   "execution_count": 65,
   "metadata": {},
   "outputs": [
    {
     "data": {
      "text/html": [
       "<div>\n",
       "<style scoped>\n",
       "    .dataframe tbody tr th:only-of-type {\n",
       "        vertical-align: middle;\n",
       "    }\n",
       "\n",
       "    .dataframe tbody tr th {\n",
       "        vertical-align: top;\n",
       "    }\n",
       "\n",
       "    .dataframe thead th {\n",
       "        text-align: right;\n",
       "    }\n",
       "</style>\n",
       "<table border=\"1\" class=\"dataframe\">\n",
       "  <thead>\n",
       "    <tr style=\"text-align: right;\">\n",
       "      <th></th>\n",
       "      <th>X0</th>\n",
       "      <th>X1</th>\n",
       "      <th>X2</th>\n",
       "      <th>X3</th>\n",
       "      <th>X4</th>\n",
       "      <th>X5</th>\n",
       "      <th>X6</th>\n",
       "    </tr>\n",
       "  </thead>\n",
       "  <tbody>\n",
       "    <tr>\n",
       "      <td>0</td>\n",
       "      <td>-34380.720092</td>\n",
       "      <td>-19.916071</td>\n",
       "      <td>-25.999007</td>\n",
       "      <td>24.333052</td>\n",
       "      <td>0.551740</td>\n",
       "      <td>-4.739041</td>\n",
       "      <td>-3.146913</td>\n",
       "    </tr>\n",
       "    <tr>\n",
       "      <td>1</td>\n",
       "      <td>54917.279980</td>\n",
       "      <td>2.156109</td>\n",
       "      <td>9.871713</td>\n",
       "      <td>1.988709</td>\n",
       "      <td>-6.591797</td>\n",
       "      <td>20.135426</td>\n",
       "      <td>-0.794826</td>\n",
       "    </tr>\n",
       "    <tr>\n",
       "      <td>2</td>\n",
       "      <td>67430.279630</td>\n",
       "      <td>9.418160</td>\n",
       "      <td>-12.656431</td>\n",
       "      <td>-3.924596</td>\n",
       "      <td>10.649068</td>\n",
       "      <td>16.679504</td>\n",
       "      <td>-8.473162</td>\n",
       "    </tr>\n",
       "    <tr>\n",
       "      <td>3</td>\n",
       "      <td>25163.280835</td>\n",
       "      <td>43.226273</td>\n",
       "      <td>-20.696815</td>\n",
       "      <td>3.686998</td>\n",
       "      <td>-17.115547</td>\n",
       "      <td>6.205580</td>\n",
       "      <td>-0.316467</td>\n",
       "    </tr>\n",
       "    <tr>\n",
       "      <td>4</td>\n",
       "      <td>231390.279124</td>\n",
       "      <td>-19.249742</td>\n",
       "      <td>9.520289</td>\n",
       "      <td>38.449475</td>\n",
       "      <td>18.589652</td>\n",
       "      <td>7.429057</td>\n",
       "      <td>-10.057036</td>\n",
       "    </tr>\n",
       "    <tr>\n",
       "      <td>5</td>\n",
       "      <td>111858.279293</td>\n",
       "      <td>-28.778168</td>\n",
       "      <td>16.218546</td>\n",
       "      <td>22.400632</td>\n",
       "      <td>9.428420</td>\n",
       "      <td>20.305955</td>\n",
       "      <td>8.724478</td>\n",
       "    </tr>\n",
       "    <tr>\n",
       "      <td>6</td>\n",
       "      <td>117305.280427</td>\n",
       "      <td>-19.261829</td>\n",
       "      <td>-12.313204</td>\n",
       "      <td>6.528814</td>\n",
       "      <td>-16.237904</td>\n",
       "      <td>4.268984</td>\n",
       "      <td>-10.751995</td>\n",
       "    </tr>\n",
       "    <tr>\n",
       "      <td>7</td>\n",
       "      <td>-217304.720228</td>\n",
       "      <td>25.384232</td>\n",
       "      <td>15.545914</td>\n",
       "      <td>7.747207</td>\n",
       "      <td>1.863595</td>\n",
       "      <td>9.369977</td>\n",
       "      <td>9.334811</td>\n",
       "    </tr>\n",
       "    <tr>\n",
       "      <td>8</td>\n",
       "      <td>189943.280047</td>\n",
       "      <td>21.591800</td>\n",
       "      <td>-37.101594</td>\n",
       "      <td>-2.125398</td>\n",
       "      <td>11.463349</td>\n",
       "      <td>0.069856</td>\n",
       "      <td>-5.116867</td>\n",
       "    </tr>\n",
       "    <tr>\n",
       "      <td>9</td>\n",
       "      <td>-132591.720338</td>\n",
       "      <td>17.102211</td>\n",
       "      <td>27.792708</td>\n",
       "      <td>2.079495</td>\n",
       "      <td>9.115612</td>\n",
       "      <td>-20.027135</td>\n",
       "      <td>-9.819101</td>\n",
       "    </tr>\n",
       "    <tr>\n",
       "      <td>10</td>\n",
       "      <td>-2346.720148</td>\n",
       "      <td>-43.130677</td>\n",
       "      <td>35.634048</td>\n",
       "      <td>3.608272</td>\n",
       "      <td>-6.951069</td>\n",
       "      <td>-10.556837</td>\n",
       "      <td>1.922400</td>\n",
       "    </tr>\n",
       "    <tr>\n",
       "      <td>11</td>\n",
       "      <td>-79564.720218</td>\n",
       "      <td>10.215607</td>\n",
       "      <td>7.534084</td>\n",
       "      <td>-22.639211</td>\n",
       "      <td>8.654196</td>\n",
       "      <td>11.406452</td>\n",
       "      <td>5.324193</td>\n",
       "    </tr>\n",
       "    <tr>\n",
       "      <td>12</td>\n",
       "      <td>-141241.720480</td>\n",
       "      <td>-7.546346</td>\n",
       "      <td>23.011246</td>\n",
       "      <td>12.736441</td>\n",
       "      <td>13.053640</td>\n",
       "      <td>-25.458303</td>\n",
       "      <td>4.808795</td>\n",
       "    </tr>\n",
       "    <tr>\n",
       "      <td>13</td>\n",
       "      <td>120148.279078</td>\n",
       "      <td>22.067427</td>\n",
       "      <td>57.647253</td>\n",
       "      <td>17.002601</td>\n",
       "      <td>16.427483</td>\n",
       "      <td>8.639067</td>\n",
       "      <td>-14.281619</td>\n",
       "    </tr>\n",
       "    <tr>\n",
       "      <td>14</td>\n",
       "      <td>-16889.720045</td>\n",
       "      <td>-36.561632</td>\n",
       "      <td>-16.541264</td>\n",
       "      <td>-4.526304</td>\n",
       "      <td>-0.544559</td>\n",
       "      <td>9.518653</td>\n",
       "      <td>7.220334</td>\n",
       "    </tr>\n",
       "    <tr>\n",
       "      <td>15</td>\n",
       "      <td>-20211.719914</td>\n",
       "      <td>-13.859798</td>\n",
       "      <td>5.386540</td>\n",
       "      <td>-53.111238</td>\n",
       "      <td>7.497361</td>\n",
       "      <td>-16.328945</td>\n",
       "      <td>3.506583</td>\n",
       "    </tr>\n",
       "    <tr>\n",
       "      <td>16</td>\n",
       "      <td>146564.280310</td>\n",
       "      <td>-0.400165</td>\n",
       "      <td>-14.685710</td>\n",
       "      <td>-4.627034</td>\n",
       "      <td>2.234828</td>\n",
       "      <td>-20.807923</td>\n",
       "      <td>-5.721649</td>\n",
       "    </tr>\n",
       "    <tr>\n",
       "      <td>17</td>\n",
       "      <td>156672.280543</td>\n",
       "      <td>17.374523</td>\n",
       "      <td>-12.338829</td>\n",
       "      <td>-18.068828</td>\n",
       "      <td>0.189250</td>\n",
       "      <td>-19.081175</td>\n",
       "      <td>4.438441</td>\n",
       "    </tr>\n",
       "    <tr>\n",
       "      <td>18</td>\n",
       "      <td>231849.280624</td>\n",
       "      <td>-14.070211</td>\n",
       "      <td>-14.654221</td>\n",
       "      <td>18.013831</td>\n",
       "      <td>-19.521099</td>\n",
       "      <td>-0.939633</td>\n",
       "      <td>-5.507290</td>\n",
       "    </tr>\n",
       "    <tr>\n",
       "      <td>19</td>\n",
       "      <td>118678.279746</td>\n",
       "      <td>2.853650</td>\n",
       "      <td>-6.984866</td>\n",
       "      <td>1.326781</td>\n",
       "      <td>12.745557</td>\n",
       "      <td>0.665295</td>\n",
       "      <td>2.518657</td>\n",
       "    </tr>\n",
       "    <tr>\n",
       "      <td>20</td>\n",
       "      <td>7020.280173</td>\n",
       "      <td>41.371904</td>\n",
       "      <td>-14.242991</td>\n",
       "      <td>1.311109</td>\n",
       "      <td>7.019703</td>\n",
       "      <td>-7.822856</td>\n",
       "      <td>1.545703</td>\n",
       "    </tr>\n",
       "    <tr>\n",
       "      <td>21</td>\n",
       "      <td>97871.279915</td>\n",
       "      <td>-2.785533</td>\n",
       "      <td>-17.980293</td>\n",
       "      <td>12.341696</td>\n",
       "      <td>3.368237</td>\n",
       "      <td>12.854301</td>\n",
       "      <td>6.643795</td>\n",
       "    </tr>\n",
       "    <tr>\n",
       "      <td>22</td>\n",
       "      <td>-19923.720096</td>\n",
       "      <td>-49.449175</td>\n",
       "      <td>22.790216</td>\n",
       "      <td>-41.242690</td>\n",
       "      <td>-5.093766</td>\n",
       "      <td>4.191947</td>\n",
       "      <td>-10.769101</td>\n",
       "    </tr>\n",
       "    <tr>\n",
       "      <td>23</td>\n",
       "      <td>-77267.720183</td>\n",
       "      <td>5.791163</td>\n",
       "      <td>-21.538320</td>\n",
       "      <td>-37.923237</td>\n",
       "      <td>8.292280</td>\n",
       "      <td>19.044031</td>\n",
       "      <td>-11.961974</td>\n",
       "    </tr>\n",
       "    <tr>\n",
       "      <td>24</td>\n",
       "      <td>78385.279626</td>\n",
       "      <td>9.633529</td>\n",
       "      <td>-20.474931</td>\n",
       "      <td>7.060986</td>\n",
       "      <td>22.938239</td>\n",
       "      <td>-16.184425</td>\n",
       "      <td>2.844157</td>\n",
       "    </tr>\n",
       "    <tr>\n",
       "      <td>25</td>\n",
       "      <td>-197607.719644</td>\n",
       "      <td>-2.301521</td>\n",
       "      <td>-1.340687</td>\n",
       "      <td>14.616966</td>\n",
       "      <td>-17.450190</td>\n",
       "      <td>0.895300</td>\n",
       "      <td>5.918771</td>\n",
       "    </tr>\n",
       "    <tr>\n",
       "      <td>26</td>\n",
       "      <td>199000.280493</td>\n",
       "      <td>10.763982</td>\n",
       "      <td>19.903110</td>\n",
       "      <td>-10.410924</td>\n",
       "      <td>-10.621219</td>\n",
       "      <td>-5.416662</td>\n",
       "      <td>6.987782</td>\n",
       "    </tr>\n",
       "    <tr>\n",
       "      <td>27</td>\n",
       "      <td>227051.280287</td>\n",
       "      <td>10.736944</td>\n",
       "      <td>39.280667</td>\n",
       "      <td>-4.631969</td>\n",
       "      <td>-11.365438</td>\n",
       "      <td>3.532868</td>\n",
       "      <td>3.459192</td>\n",
       "    </tr>\n",
       "    <tr>\n",
       "      <td>28</td>\n",
       "      <td>-159918.719725</td>\n",
       "      <td>-22.358388</td>\n",
       "      <td>-25.005109</td>\n",
       "      <td>0.827017</td>\n",
       "      <td>-13.947373</td>\n",
       "      <td>10.563823</td>\n",
       "      <td>3.622711</td>\n",
       "    </tr>\n",
       "    <tr>\n",
       "      <td>29</td>\n",
       "      <td>140605.280460</td>\n",
       "      <td>-21.819765</td>\n",
       "      <td>-32.846406</td>\n",
       "      <td>3.889308</td>\n",
       "      <td>-5.576991</td>\n",
       "      <td>-14.610322</td>\n",
       "      <td>7.347213</td>\n",
       "    </tr>\n",
       "    <tr>\n",
       "      <td>30</td>\n",
       "      <td>142937.279721</td>\n",
       "      <td>-20.432098</td>\n",
       "      <td>-0.676461</td>\n",
       "      <td>-10.135816</td>\n",
       "      <td>11.677692</td>\n",
       "      <td>10.154943</td>\n",
       "      <td>25.765768</td>\n",
       "    </tr>\n",
       "    <tr>\n",
       "      <td>31</td>\n",
       "      <td>131291.280663</td>\n",
       "      <td>22.438645</td>\n",
       "      <td>-11.234014</td>\n",
       "      <td>2.326815</td>\n",
       "      <td>-11.717735</td>\n",
       "      <td>-2.298818</td>\n",
       "      <td>6.763673</td>\n",
       "    </tr>\n",
       "    <tr>\n",
       "      <td>32</td>\n",
       "      <td>-99038.719271</td>\n",
       "      <td>40.810710</td>\n",
       "      <td>-10.141136</td>\n",
       "      <td>18.094717</td>\n",
       "      <td>-20.069502</td>\n",
       "      <td>-0.694737</td>\n",
       "      <td>0.858678</td>\n",
       "    </tr>\n",
       "    <tr>\n",
       "      <td>33</td>\n",
       "      <td>-224213.720235</td>\n",
       "      <td>-7.339778</td>\n",
       "      <td>-0.008226</td>\n",
       "      <td>22.979266</td>\n",
       "      <td>-3.648940</td>\n",
       "      <td>1.626820</td>\n",
       "      <td>-4.186177</td>\n",
       "    </tr>\n",
       "    <tr>\n",
       "      <td>34</td>\n",
       "      <td>-101227.720313</td>\n",
       "      <td>6.612106</td>\n",
       "      <td>-4.734680</td>\n",
       "      <td>11.847029</td>\n",
       "      <td>12.057902</td>\n",
       "      <td>-11.526515</td>\n",
       "      <td>-1.526432</td>\n",
       "    </tr>\n",
       "    <tr>\n",
       "      <td>35</td>\n",
       "      <td>-149967.720421</td>\n",
       "      <td>24.487360</td>\n",
       "      <td>-1.814185</td>\n",
       "      <td>5.531288</td>\n",
       "      <td>12.441691</td>\n",
       "      <td>8.164363</td>\n",
       "      <td>1.962983</td>\n",
       "    </tr>\n",
       "    <tr>\n",
       "      <td>36</td>\n",
       "      <td>244848.280651</td>\n",
       "      <td>-16.592378</td>\n",
       "      <td>9.339213</td>\n",
       "      <td>12.050788</td>\n",
       "      <td>-20.196343</td>\n",
       "      <td>-11.704989</td>\n",
       "      <td>-2.697827</td>\n",
       "    </tr>\n",
       "    <tr>\n",
       "      <td>37</td>\n",
       "      <td>-132772.720147</td>\n",
       "      <td>-18.710241</td>\n",
       "      <td>9.341531</td>\n",
       "      <td>-12.938046</td>\n",
       "      <td>1.396277</td>\n",
       "      <td>-3.066420</td>\n",
       "      <td>8.373195</td>\n",
       "    </tr>\n",
       "    <tr>\n",
       "      <td>38</td>\n",
       "      <td>206511.280106</td>\n",
       "      <td>-5.352166</td>\n",
       "      <td>14.458059</td>\n",
       "      <td>-7.283719</td>\n",
       "      <td>-1.260227</td>\n",
       "      <td>-3.736094</td>\n",
       "      <td>1.751412</td>\n",
       "    </tr>\n",
       "    <tr>\n",
       "      <td>39</td>\n",
       "      <td>-151673.720397</td>\n",
       "      <td>2.570258</td>\n",
       "      <td>24.896677</td>\n",
       "      <td>22.319754</td>\n",
       "      <td>2.349599</td>\n",
       "      <td>5.162474</td>\n",
       "      <td>6.784544</td>\n",
       "    </tr>\n",
       "    <tr>\n",
       "      <td>40</td>\n",
       "      <td>-199805.720440</td>\n",
       "      <td>-15.356839</td>\n",
       "      <td>-22.345440</td>\n",
       "      <td>13.346948</td>\n",
       "      <td>7.820721</td>\n",
       "      <td>6.346358</td>\n",
       "      <td>-2.569125</td>\n",
       "    </tr>\n",
       "    <tr>\n",
       "      <td>41</td>\n",
       "      <td>72651.279896</td>\n",
       "      <td>9.275001</td>\n",
       "      <td>8.303573</td>\n",
       "      <td>-27.224834</td>\n",
       "      <td>8.749711</td>\n",
       "      <td>0.983127</td>\n",
       "      <td>-0.292750</td>\n",
       "    </tr>\n",
       "    <tr>\n",
       "      <td>42</td>\n",
       "      <td>12212.280575</td>\n",
       "      <td>15.427092</td>\n",
       "      <td>22.681226</td>\n",
       "      <td>-8.530631</td>\n",
       "      <td>-25.446680</td>\n",
       "      <td>13.567808</td>\n",
       "      <td>-6.966861</td>\n",
       "    </tr>\n",
       "    <tr>\n",
       "      <td>43</td>\n",
       "      <td>60453.279590</td>\n",
       "      <td>8.949531</td>\n",
       "      <td>-17.918813</td>\n",
       "      <td>-18.835308</td>\n",
       "      <td>20.181995</td>\n",
       "      <td>6.815312</td>\n",
       "      <td>-11.178329</td>\n",
       "    </tr>\n",
       "    <tr>\n",
       "      <td>44</td>\n",
       "      <td>-137706.719661</td>\n",
       "      <td>9.690215</td>\n",
       "      <td>-10.056550</td>\n",
       "      <td>-11.741061</td>\n",
       "      <td>-10.158331</td>\n",
       "      <td>10.446732</td>\n",
       "      <td>-0.575714</td>\n",
       "    </tr>\n",
       "    <tr>\n",
       "      <td>45</td>\n",
       "      <td>-212631.719646</td>\n",
       "      <td>-27.474874</td>\n",
       "      <td>-4.146164</td>\n",
       "      <td>-14.131436</td>\n",
       "      <td>-19.379459</td>\n",
       "      <td>2.604722</td>\n",
       "      <td>-4.266624</td>\n",
       "    </tr>\n",
       "    <tr>\n",
       "      <td>46</td>\n",
       "      <td>-214595.720746</td>\n",
       "      <td>-44.941369</td>\n",
       "      <td>-10.553077</td>\n",
       "      <td>17.890460</td>\n",
       "      <td>13.979858</td>\n",
       "      <td>-12.973966</td>\n",
       "      <td>-7.821922</td>\n",
       "    </tr>\n",
       "    <tr>\n",
       "      <td>47</td>\n",
       "      <td>-211678.720623</td>\n",
       "      <td>8.648076</td>\n",
       "      <td>7.944111</td>\n",
       "      <td>-7.666745</td>\n",
       "      <td>18.090249</td>\n",
       "      <td>1.664509</td>\n",
       "      <td>1.542731</td>\n",
       "    </tr>\n",
       "    <tr>\n",
       "      <td>48</td>\n",
       "      <td>-168387.719032</td>\n",
       "      <td>14.085297</td>\n",
       "      <td>-0.663019</td>\n",
       "      <td>-7.152223</td>\n",
       "      <td>-26.942925</td>\n",
       "      <td>-19.375048</td>\n",
       "      <td>-5.855697</td>\n",
       "    </tr>\n",
       "    <tr>\n",
       "      <td>49</td>\n",
       "      <td>-89808.719746</td>\n",
       "      <td>45.006959</td>\n",
       "      <td>14.591719</td>\n",
       "      <td>2.534792</td>\n",
       "      <td>-2.990810</td>\n",
       "      <td>-5.963400</td>\n",
       "      <td>4.684458</td>\n",
       "    </tr>\n",
       "  </tbody>\n",
       "</table>\n",
       "</div>"
      ],
      "text/plain": [
       "               X0         X1         X2         X3         X4         X5  \\\n",
       "0   -34380.720092 -19.916071 -25.999007  24.333052   0.551740  -4.739041   \n",
       "1    54917.279980   2.156109   9.871713   1.988709  -6.591797  20.135426   \n",
       "2    67430.279630   9.418160 -12.656431  -3.924596  10.649068  16.679504   \n",
       "3    25163.280835  43.226273 -20.696815   3.686998 -17.115547   6.205580   \n",
       "4   231390.279124 -19.249742   9.520289  38.449475  18.589652   7.429057   \n",
       "5   111858.279293 -28.778168  16.218546  22.400632   9.428420  20.305955   \n",
       "6   117305.280427 -19.261829 -12.313204   6.528814 -16.237904   4.268984   \n",
       "7  -217304.720228  25.384232  15.545914   7.747207   1.863595   9.369977   \n",
       "8   189943.280047  21.591800 -37.101594  -2.125398  11.463349   0.069856   \n",
       "9  -132591.720338  17.102211  27.792708   2.079495   9.115612 -20.027135   \n",
       "10   -2346.720148 -43.130677  35.634048   3.608272  -6.951069 -10.556837   \n",
       "11  -79564.720218  10.215607   7.534084 -22.639211   8.654196  11.406452   \n",
       "12 -141241.720480  -7.546346  23.011246  12.736441  13.053640 -25.458303   \n",
       "13  120148.279078  22.067427  57.647253  17.002601  16.427483   8.639067   \n",
       "14  -16889.720045 -36.561632 -16.541264  -4.526304  -0.544559   9.518653   \n",
       "15  -20211.719914 -13.859798   5.386540 -53.111238   7.497361 -16.328945   \n",
       "16  146564.280310  -0.400165 -14.685710  -4.627034   2.234828 -20.807923   \n",
       "17  156672.280543  17.374523 -12.338829 -18.068828   0.189250 -19.081175   \n",
       "18  231849.280624 -14.070211 -14.654221  18.013831 -19.521099  -0.939633   \n",
       "19  118678.279746   2.853650  -6.984866   1.326781  12.745557   0.665295   \n",
       "20    7020.280173  41.371904 -14.242991   1.311109   7.019703  -7.822856   \n",
       "21   97871.279915  -2.785533 -17.980293  12.341696   3.368237  12.854301   \n",
       "22  -19923.720096 -49.449175  22.790216 -41.242690  -5.093766   4.191947   \n",
       "23  -77267.720183   5.791163 -21.538320 -37.923237   8.292280  19.044031   \n",
       "24   78385.279626   9.633529 -20.474931   7.060986  22.938239 -16.184425   \n",
       "25 -197607.719644  -2.301521  -1.340687  14.616966 -17.450190   0.895300   \n",
       "26  199000.280493  10.763982  19.903110 -10.410924 -10.621219  -5.416662   \n",
       "27  227051.280287  10.736944  39.280667  -4.631969 -11.365438   3.532868   \n",
       "28 -159918.719725 -22.358388 -25.005109   0.827017 -13.947373  10.563823   \n",
       "29  140605.280460 -21.819765 -32.846406   3.889308  -5.576991 -14.610322   \n",
       "30  142937.279721 -20.432098  -0.676461 -10.135816  11.677692  10.154943   \n",
       "31  131291.280663  22.438645 -11.234014   2.326815 -11.717735  -2.298818   \n",
       "32  -99038.719271  40.810710 -10.141136  18.094717 -20.069502  -0.694737   \n",
       "33 -224213.720235  -7.339778  -0.008226  22.979266  -3.648940   1.626820   \n",
       "34 -101227.720313   6.612106  -4.734680  11.847029  12.057902 -11.526515   \n",
       "35 -149967.720421  24.487360  -1.814185   5.531288  12.441691   8.164363   \n",
       "36  244848.280651 -16.592378   9.339213  12.050788 -20.196343 -11.704989   \n",
       "37 -132772.720147 -18.710241   9.341531 -12.938046   1.396277  -3.066420   \n",
       "38  206511.280106  -5.352166  14.458059  -7.283719  -1.260227  -3.736094   \n",
       "39 -151673.720397   2.570258  24.896677  22.319754   2.349599   5.162474   \n",
       "40 -199805.720440 -15.356839 -22.345440  13.346948   7.820721   6.346358   \n",
       "41   72651.279896   9.275001   8.303573 -27.224834   8.749711   0.983127   \n",
       "42   12212.280575  15.427092  22.681226  -8.530631 -25.446680  13.567808   \n",
       "43   60453.279590   8.949531 -17.918813 -18.835308  20.181995   6.815312   \n",
       "44 -137706.719661   9.690215 -10.056550 -11.741061 -10.158331  10.446732   \n",
       "45 -212631.719646 -27.474874  -4.146164 -14.131436 -19.379459   2.604722   \n",
       "46 -214595.720746 -44.941369 -10.553077  17.890460  13.979858 -12.973966   \n",
       "47 -211678.720623   8.648076   7.944111  -7.666745  18.090249   1.664509   \n",
       "48 -168387.719032  14.085297  -0.663019  -7.152223 -26.942925 -19.375048   \n",
       "49  -89808.719746  45.006959  14.591719   2.534792  -2.990810  -5.963400   \n",
       "\n",
       "           X6  \n",
       "0   -3.146913  \n",
       "1   -0.794826  \n",
       "2   -8.473162  \n",
       "3   -0.316467  \n",
       "4  -10.057036  \n",
       "5    8.724478  \n",
       "6  -10.751995  \n",
       "7    9.334811  \n",
       "8   -5.116867  \n",
       "9   -9.819101  \n",
       "10   1.922400  \n",
       "11   5.324193  \n",
       "12   4.808795  \n",
       "13 -14.281619  \n",
       "14   7.220334  \n",
       "15   3.506583  \n",
       "16  -5.721649  \n",
       "17   4.438441  \n",
       "18  -5.507290  \n",
       "19   2.518657  \n",
       "20   1.545703  \n",
       "21   6.643795  \n",
       "22 -10.769101  \n",
       "23 -11.961974  \n",
       "24   2.844157  \n",
       "25   5.918771  \n",
       "26   6.987782  \n",
       "27   3.459192  \n",
       "28   3.622711  \n",
       "29   7.347213  \n",
       "30  25.765768  \n",
       "31   6.763673  \n",
       "32   0.858678  \n",
       "33  -4.186177  \n",
       "34  -1.526432  \n",
       "35   1.962983  \n",
       "36  -2.697827  \n",
       "37   8.373195  \n",
       "38   1.751412  \n",
       "39   6.784544  \n",
       "40  -2.569125  \n",
       "41  -0.292750  \n",
       "42  -6.966861  \n",
       "43 -11.178329  \n",
       "44  -0.575714  \n",
       "45  -4.266624  \n",
       "46  -7.821922  \n",
       "47   1.542731  \n",
       "48  -5.855697  \n",
       "49   4.684458  "
      ]
     },
     "execution_count": 65,
     "metadata": {},
     "output_type": "execute_result"
    }
   ],
   "source": [
    "#apply_pca(read_data(PATH_TO_CSV_FILE).to_numpy(), 2)\n",
    "df = read_data(PATH_TO_CSV_FILE)\n",
    "apply_pca(df, 7)"
   ]
  }
 ],
 "metadata": {
  "kernelspec": {
   "display_name": "Python 3",
   "language": "python",
   "name": "python3"
  },
  "language_info": {
   "codemirror_mode": {
    "name": "ipython",
    "version": 3
   },
   "file_extension": ".py",
   "mimetype": "text/x-python",
   "name": "python",
   "nbconvert_exporter": "python",
   "pygments_lexer": "ipython3",
   "version": "3.7.4"
  }
 },
 "nbformat": 4,
 "nbformat_minor": 4
}
