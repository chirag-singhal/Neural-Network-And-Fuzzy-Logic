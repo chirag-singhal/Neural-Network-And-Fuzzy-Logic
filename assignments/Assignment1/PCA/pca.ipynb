{
 "cells": [
  {
   "cell_type": "markdown",
   "metadata": {
    "deletable": false,
    "editable": false,
    "nbgrader": {
     "cell_type": "markdown",
     "checksum": "9c0cd22af44e289087ce960aafd76dbe",
     "grade": false,
     "grade_id": "cell-9fc7db9f36897a2c",
     "locked": true,
     "schema_version": 3,
     "solution": false
    }
   },
   "source": [
    "# Assignment 1 \n",
    "### Neural Networks and Fuzzy Logic (2nd Semester 2019-2020)\n",
    "\n",
    "### Instructions:\n",
    "This assignment is designed to check your understanding of linear algebra, assuming you have basic knowlegde of Linear Algebra, this assignment will introudce you to some high level tasks in Linear Algebra, and what's the fun part about it? You'll be implemnting those concepts and visualizing them!! So Let's start.\n",
    "\n",
    "#### Key Concepts: Matrix Inverse, Linear Transforms, Eigendecomposition and all the interesting stuff Linear Algebra has :)\n",
    "\n",
    "##### Please make sure you adhere to the policy of originality of your work, the assignment should reflect your understanding and should be your original, cases of plagiarism will be strictly dealt with as per institute norms. The penalties can include debarrment from the course and registration for the next semester.\n",
    "\n",
    "# Matrices as linear transformations\n",
    "\n",
    "Matrices can be viewed as linear transformations you 'apply' to vectors. Some matrices will rotate your space, others will rescale it etc. So when we apply a matrix to a vector, we end up with a transformed version of the vector. When we say that we 'apply' the matrix to the vector it means that we calculate the dot product of the matrix with the vector. We will start with a basic example of this kind of transformation."
   ]
  },
  {
   "cell_type": "code",
   "execution_count": 287,
   "metadata": {
    "deletable": false,
    "editable": false,
    "nbgrader": {
     "cell_type": "code",
     "checksum": "1d07f7cc18d1b9111ddfce76625d7654",
     "grade": false,
     "grade_id": "cell-19c0e98f3e95828d",
     "locked": true,
     "schema_version": 3,
     "solution": false
    }
   },
   "outputs": [],
   "source": [
    "#No other imports are allowed !!!\n",
    "import numpy as np\n",
    "import matplotlib.pyplot as plt\n",
    "import pandas as pd"
   ]
  },
  {
   "cell_type": "code",
   "execution_count": 288,
   "metadata": {
    "deletable": false,
    "editable": false,
    "nbgrader": {
     "cell_type": "code",
     "checksum": "0cddbe74f372f23be7efbc343bbc7e0e",
     "grade": false,
     "grade_id": "cell-b9af1226de0620a9",
     "locked": true,
     "schema_version": 3,
     "solution": false
    }
   },
   "outputs": [],
   "source": [
    "#utility function, please don't alter this\n",
    "def plot_vectors(vectors, cols, alpha=1):\n",
    "    \"\"\"\n",
    "    Plot set of vectors.\n",
    "    Parameters\n",
    "    ----------\n",
    "    vectors : array-like\n",
    "        Coordinates of the vectors to plot. Each vectors is in an array. For\n",
    "        instance: [[1, 3], [2, 2]] can be used to plot 2 vectors.\n",
    "    cols : array-like\n",
    "        Colors of the vectors. For instance: ['green', 'red'] will display the\n",
    "        first vector in green and the second in red.\n",
    "    alpha : float\n",
    "        Opacity of vectors\n",
    "    Returns:\n",
    "    fig : instance of matplotlib.figure.Figure\n",
    "        The figure of the vectors\n",
    "    \"\"\"\n",
    "    plt.axvline(x=0, color='#A9A9A9', zorder=0)\n",
    "    plt.axhline(y=0, color='#A9A9A9', zorder=0)\n",
    "\n",
    "    for i in range(len(vectors)):\n",
    "        if (isinstance(alpha, list)):\n",
    "            alpha_i = alpha[i]\n",
    "        else:\n",
    "            alpha_i = alpha\n",
    "        x = np.concatenate([[0,0],vectors[i]])\n",
    "        plt.quiver([x[0]],\n",
    "                   [x[1]],\n",
    "                   [x[2]],\n",
    "                   [x[3]],\n",
    "                   angles='xy', scale_units='xy', scale=1, color=cols[i],\n",
    "                  alpha=alpha_i)"
   ]
  },
  {
   "cell_type": "code",
   "execution_count": 289,
   "metadata": {
    "deletable": false,
    "editable": false,
    "nbgrader": {
     "cell_type": "code",
     "checksum": "c819583966262a1a3f13e8cbc47754a0",
     "grade": false,
     "grade_id": "cell-ce702182a2c41123",
     "locked": true,
     "schema_version": 3,
     "solution": false
    }
   },
   "outputs": [
    {
     "name": "stdout",
     "output_type": "stream",
     "text": [
      "[[1 3]\n",
      " [2 6]]\n",
      "(2, 2)\n"
     ]
    }
   ],
   "source": [
    "A = np.array([[1, 3], [2, 6]])\n",
    "print(A)\n",
    "print(A.shape)"
   ]
  },
  {
   "cell_type": "code",
   "execution_count": 290,
   "metadata": {
    "deletable": false,
    "editable": false,
    "nbgrader": {
     "cell_type": "code",
     "checksum": "a59a44ea2e8fbd374c9653f42715e8d5",
     "grade": false,
     "grade_id": "cell-1f315bf803194fcb",
     "locked": true,
     "schema_version": 3,
     "solution": false
    }
   },
   "outputs": [
    {
     "name": "stdout",
     "output_type": "stream",
     "text": [
      "[[5]\n",
      " [3]]\n",
      "(2, 1)\n"
     ]
    }
   ],
   "source": [
    "v = np.array([[5], [3]])\n",
    "print(v)\n",
    "print(v.shape)"
   ]
  },
  {
   "cell_type": "code",
   "execution_count": 291,
   "metadata": {
    "deletable": false,
    "editable": false,
    "nbgrader": {
     "cell_type": "code",
     "checksum": "477effa793e0ba82f9fd5d2d6ae3b56b",
     "grade": false,
     "grade_id": "cell-3984d8d6d889d8c6",
     "locked": true,
     "schema_version": 3,
     "solution": false
    }
   },
   "outputs": [
    {
     "data": {
      "image/png": "[encoded data removed]",
      "text/plain": [
       "<Figure size 432x288 with 1 Axes>"
      ]
     },
     "metadata": {
      "needs_background": "light"
     },
     "output_type": "display_data"
    }
   ],
   "source": [
    "plot_vectors([v.flatten()],['red'])\n",
    "plt.ylim(0, 6)\n",
    "plt.xlim(0, 6)\n",
    "plt.show()"
   ]
  },
  {
   "cell_type": "markdown",
   "metadata": {
    "deletable": false,
    "editable": false,
    "nbgrader": {
     "cell_type": "markdown",
     "checksum": "474c75330b748794e91590322b2ff288",
     "grade": false,
     "grade_id": "cell-58de14d42535ed42",
     "locked": true,
     "schema_version": 3,
     "solution": false
    }
   },
   "source": [
    "**Inline Question**: did you see that v is flattened before plotting? why do we need to do that? Check out the code for plot_vectors and try to answer this? <br>"
   ]
  },
  {
   "cell_type": "markdown",
   "metadata": {
    "deletable": false,
    "nbgrader": {
     "cell_type": "markdown",
     "checksum": "d8dad74210d6810270db64592d74a25c",
     "grade": true,
     "grade_id": "cell-89c617592276dccd",
     "locked": false,
     "points": 1,
     "schema_version": 3,
     "solution": true
    }
   },
   "source": [
    "YOUR ANSWER HERE"
   ]
  },
  {
   "cell_type": "code",
   "execution_count": 292,
   "metadata": {
    "deletable": false,
    "nbgrader": {
     "cell_type": "code",
     "checksum": "92a21b3ae6b8f0049ba006b0584a9995",
     "grade": false,
     "grade_id": "cell-8c70805160037e04",
     "locked": false,
     "schema_version": 3,
     "solution": true
    }
   },
   "outputs": [],
   "source": [
    "def apply_linear_transform(A,v):\n",
    "    '''\n",
    "    Apply the linear transformation on v by a matrix A\n",
    "    return the transformed matrix (Av)\n",
    "    '''\n",
    "    # YOUR CODE HERE\n",
    "    transformed_matrix = A.dot(v)\n",
    "    return transformed_matrix"
   ]
  },
  {
   "cell_type": "code",
   "execution_count": 293,
   "metadata": {
    "deletable": false,
    "editable": false,
    "nbgrader": {
     "cell_type": "code",
     "checksum": "db6fa04b7549337874847724f11a2dd0",
     "grade": true,
     "grade_id": "cell-4f7d4f29ea739491",
     "locked": true,
     "points": 1,
     "schema_version": 3,
     "solution": false
    }
   },
   "outputs": [],
   "source": [
    "#DO NOT ALTER THIS CELL\n",
    "#HIDDEN TEST CASES FOR apply_linear_transform"
   ]
  },
  {
   "cell_type": "code",
   "execution_count": 294,
   "metadata": {
    "deletable": false,
    "editable": false,
    "nbgrader": {
     "cell_type": "code",
     "checksum": "0d64be830d279d216325e00eca6c52bd",
     "grade": false,
     "grade_id": "cell-3caec98ae0f9b128",
     "locked": true,
     "schema_version": 3,
     "solution": false,
     "task": false
    }
   },
   "outputs": [
    {
     "data": {
      "image/png": "[encoded data removed]",
      "text/plain": [
       "<Figure size 432x288 with 1 Axes>"
      ]
     },
     "metadata": {
      "needs_background": "light"
     },
     "output_type": "display_data"
    }
   ],
   "source": [
    "\n",
    "# Let us visualize the transformation on vector v by a matrix A as mentioned above\n",
    "transformed_vector = apply_linear_transform(A,v)\n",
    "plot_vectors([v.flatten(), transformed_vector.flatten()],cols=['red','green'])\n",
    "plt.ylim(0, 6)\n",
    "plt.xlim(0, 6)\n",
    "plt.show()"
   ]
  },
  {
   "cell_type": "markdown",
   "metadata": {
    "deletable": false,
    "editable": false,
    "nbgrader": {
     "cell_type": "markdown",
     "checksum": "8bf816abe41fec75935c39a77031a575",
     "grade": false,
     "grade_id": "cell-90ab2f47fb9ba388",
     "locked": true,
     "schema_version": 3,
     "solution": false
    }
   },
   "source": [
    "## Eigendecomposition\n",
    "\n",
    "We have seen an example of a vector transformed by a matrix. Now imagine that the transformation of the initial vector gives us a new vector that has the exact same direction. The scale can be different but the direction is the same. Applying the matrix didn't change the direction of the vector. This special vector is called an eigenvector of the matrix. We will see that finding the eigenvectors of a matrix can be very useful.\n",
    "\n",
    "<span class='pquote'>\n",
    "    Imagine that the transformation of the initial vector by the matrix gives a new vector with the exact same direction. This vector is called an eigenvector of ${A}$.\n",
    "</span>\n",
    "\n",
    "This means that ${v}$ is a eigenvector of ${A}$ if ${v}$ and ${Av}$ are in the same direction or to rephrase it if the vectors ${Av}$ and ${v}$ are parallel. The output vector is just a scaled version of the input vector. This scalling factor is $\\lambda$ which is called the **eigenvalue** of ${A}$.\n",
    "\n",
    "$$\n",
    "{Av} = \\lambda{v}\n",
    "$$\n",
    "\n",
    "Talking in terms of eigen values and eigen vector the eigen decomposition of a matrix looks like the following:\n",
    "\n",
    "$$\n",
    "{A}= {V}\\cdot{diag}({\\lambda})\\cdot{V}^{-1}\n",
    "$$\n",
    "\n",
    "We will also verify this property of eigendecomposition.\n",
    "\n",
    "Eigen decomposition is a crucial step for PCA (introduced later)\n",
    "\n",
    "Let's begin!!"
   ]
  },
  {
   "cell_type": "code",
   "execution_count": 295,
   "metadata": {
    "deletable": false,
    "nbgrader": {
     "cell_type": "code",
     "checksum": "d3bedacf3ed72bf09f17f3529adc7206",
     "grade": false,
     "grade_id": "cell-947cfea731ce6537",
     "locked": false,
     "schema_version": 3,
     "solution": true
    }
   },
   "outputs": [],
   "source": [
    "def find_eigen_decomposition(matrix):\n",
    "    '''\n",
    "    use numpy to find the eigen decomposition of the matrix\n",
    "    returns eigenValues and the eigenVectors\n",
    "    '''\n",
    "    # YOUR CODE HERE\n",
    "    #print(np.linalg.eig(matrix))\n",
    "    eigenval, eigenvec = np.linalg.eig(matrix)\n",
    "    return eigenval, eigenvec"
   ]
  },
  {
   "cell_type": "code",
   "execution_count": 296,
   "metadata": {
    "deletable": false,
    "editable": false,
    "nbgrader": {
     "cell_type": "code",
     "checksum": "1bd343f66f632c973e45c91594cd6c95",
     "grade": true,
     "grade_id": "cell-9e1377220b4336dd",
     "locked": true,
     "points": 1,
     "schema_version": 3,
     "solution": false
    }
   },
   "outputs": [],
   "source": [
    "#DO NOT ALTER THIS CELL\n",
    "#HIDDEN TEST CASES FOR find_eigen_decomposition\n"
   ]
  },
  {
   "cell_type": "code",
   "execution_count": 297,
   "metadata": {
    "deletable": false,
    "nbgrader": {
     "cell_type": "code",
     "checksum": "21a973dfa18f0e2f341a643bfe075f36",
     "grade": false,
     "grade_id": "cell-b7f2c7683aef8586",
     "locked": false,
     "schema_version": 3,
     "solution": true
    }
   },
   "outputs": [],
   "source": [
    "def verify_eigen_decomposition(matrix,eigen_values,eigen_vectors):\n",
    "    \n",
    "    '''\n",
    "    verify the eigen decomposition property of matrix\n",
    "    return the recontsructed matrix using the property of eigen vectors and eigenvalues\n",
    "    '''\n",
    "    # YOUR CODE HERE\n",
    "    eigen_vec_inverse = np.linalg.inv(eigen_vectors)\n",
    "    diagonal_eigen_val = np.diag(eigen_values)\n",
    "    reconstruct_matrix = eigen_vectors.dot(diagonal_eigen_val).dot(eigen_vec_inverse)\n",
    "    return reconstruct_matrix"
   ]
  },
  {
   "cell_type": "code",
   "execution_count": 298,
   "metadata": {},
   "outputs": [
    {
     "name": "stdout",
     "output_type": "stream",
     "text": [
      "(array([0., 7.]), array([[-0.9486833 , -0.4472136 ],\n",
      "       [ 0.31622777, -0.89442719]]))\n"
     ]
    }
   ],
   "source": [
    "print(np.linalg.eig(A))"
   ]
  },
  {
   "cell_type": "code",
   "execution_count": 299,
   "metadata": {
    "deletable": false,
    "editable": false,
    "nbgrader": {
     "cell_type": "code",
     "checksum": "ecd71ed2c1d38f6f652e298608e4bf91",
     "grade": true,
     "grade_id": "cell-ca924fb2cbe495d7",
     "locked": true,
     "points": 1,
     "schema_version": 3,
     "solution": false,
     "task": false
    }
   },
   "outputs": [],
   "source": [
    "#DO NOT ALTER THIS CELL\n",
    "#HIDDEN TEST CASES FOR verify_eigen_decomposition\n"
   ]
  },
  {
   "cell_type": "markdown",
   "metadata": {
    "nbgrader": {
     "grade": false,
     "grade_id": "cell-dd8a48317889d004",
     "locked": false,
     "schema_version": 3,
     "solution": false,
     "task": false
    }
   },
   "source": [
    "## Principal Component Analysis\n",
    "Handling Dimensions is very important in Machine Leanring. The dimensions are all the features of the dataset. For instance, if you are looking at a dataset containing pieces of music, dimensions could be the genre, the length of the piece, the number of instruments, the presence of a singer etc. You can imagine all these dimensions as different columns. When there is only two dimensions, it is very convenient to plot: you can use the $x$ - and  $y$ -axis. Add color and you can represent a third dimension. It is similar if you have tens or hundereds of dimensions, it will just be harder to visualize it.\n",
    "\n",
    "When you have that many dimensions it happens that some of them are correlated. For instance, we can reasonably think that the genre dimension will correlate with the instruments dimensions in our previous example. One way to reduce dimensionality is simply to keep only some of them. The problem is that you loose good information. It would be nice to have a way to reduce these dimensions while keeping all the information present in the data set.\n",
    "\n",
    "The aim of principal components analysis (PCA) is generaly to reduce the number of dimensions of a dataset where dimensions are not completly decorelated. PCA provides us with a new set of dimensions, the principal components (PC).\n",
    "\n",
    "Step-wise PCA is:\n",
    "\n",
    "1) Center the data <br>\n",
    "2) Find the covariance matrix <br>\n",
    "3) Find the Eigen Decompostion <br>\n",
    "4) Choose the principal components <br>\n",
    "5) Find the new dataset Matrix <br>\n",
    "\n",
    "Following [article](https://towardsdatascience.com/a-one-stop-shop-for-principal-component-analysis-5582fb7e0a9c) also explains PCA very well.\n",
    "Let's implement PCA to get an essence of how dimensions can be reduced, you need to implement the function one by one!"
   ]
  },
  {
   "cell_type": "code",
   "execution_count": 300,
   "metadata": {
    "deletable": false,
    "editable": false,
    "nbgrader": {
     "cell_type": "code",
     "checksum": "5e1c040db26dd75c1b0179c45eb4d9b9",
     "grade": false,
     "grade_id": "cell-50d014c7204eab60",
     "locked": true,
     "schema_version": 3,
     "solution": false
    }
   },
   "outputs": [],
   "source": [
    "\n",
    "x = 5*np.random.rand(100)\n",
    "y = 2*x + 1 + np.random.randn(100)\n",
    "\n",
    "#the two dimensions of our dataset\n",
    "x = x.reshape(100, 1)\n",
    "y = y.reshape(100, 1)\n",
    "\n",
    "#The dataset matrix\n",
    "X = np.hstack([x, y])"
   ]
  },
  {
   "cell_type": "code",
   "execution_count": 301,
   "metadata": {
    "deletable": false,
    "editable": false,
    "nbgrader": {
     "cell_type": "code",
     "checksum": "5a4ff28baf3be6d4e0807cce58e01139",
     "grade": false,
     "grade_id": "cell-7a4b70ccb4531995",
     "locked": true,
     "schema_version": 3,
     "solution": false,
     "task": false
    }
   },
   "outputs": [
    {
     "data": {
      "image/png": "[encoded data removed]",
      "text/plain": [
       "<Figure size 432x288 with 1 Axes>"
      ]
     },
     "metadata": {
      "needs_background": "light"
     },
     "output_type": "display_data"
    }
   ],
   "source": [
    "plt.plot(X[:,0],X[:,1],'.')\n",
    "plt.show()"
   ]
  },
  {
   "cell_type": "code",
   "execution_count": 302,
   "metadata": {
    "deletable": false,
    "nbgrader": {
     "cell_type": "code",
     "checksum": "abe15e41d63dee280ad092c30fb473d8",
     "grade": false,
     "grade_id": "cell-4aace02eb82ebd5c",
     "locked": false,
     "schema_version": 3,
     "solution": true
    }
   },
   "outputs": [],
   "source": [
    "def center(X):\n",
    "    '''\n",
    "    function to center the data around the mean\n",
    "    modify the return value to return the modified matrix\n",
    "    '''\n",
    "    # YOUR CODE HERE\n",
    "    Y = X.copy()\n",
    "    Y = Y - np.mean(Y, axis = 0)\n",
    "    return Y"
   ]
  },
  {
   "cell_type": "code",
   "execution_count": 303,
   "metadata": {
    "deletable": false,
    "editable": false,
    "nbgrader": {
     "cell_type": "code",
     "checksum": "e93896f256cb6a27066e483567cc4d76",
     "grade": true,
     "grade_id": "cell-9e373b3dc8185259",
     "locked": true,
     "points": 1,
     "schema_version": 3,
     "solution": false,
     "task": false
    }
   },
   "outputs": [],
   "source": [
    "#DO NOT ALTER THIS CELL\n",
    "#HIDDEN TEST CASES FOR center\n"
   ]
  },
  {
   "cell_type": "code",
   "execution_count": 304,
   "metadata": {
    "deletable": false,
    "nbgrader": {
     "cell_type": "code",
     "checksum": "ac41b61dce69774d25b8d173170a0c54",
     "grade": false,
     "grade_id": "cell-f2ba4844ba63791f",
     "locked": false,
     "schema_version": 3,
     "solution": true
    }
   },
   "outputs": [],
   "source": [
    "def find_covariance_matrix(X):\n",
    "    '''\n",
    "    Find the covariance matrix of X\n",
    "    USE only the following formula for covariance: 1/M dot_product(transpose(X),X) where X is MxN\n",
    "    M is the number of observations and N is the number of features and X is column centered.\n",
    "    Return the final matrix\n",
    "    '''\n",
    "    \n",
    "    # YOUR CODE HERE\n",
    "    M, N = X.shape\n",
    "    covariance_matrix = X.T.dot(X) / M\n",
    "    return covariance_matrix"
   ]
  },
  {
   "cell_type": "code",
   "execution_count": 305,
   "metadata": {
    "deletable": false,
    "editable": false,
    "nbgrader": {
     "cell_type": "code",
     "checksum": "ee40481ac450156539c8728475a0ba7d",
     "grade": true,
     "grade_id": "cell-23455edbef9a7b84",
     "locked": true,
     "points": 1,
     "schema_version": 3,
     "solution": false,
     "task": false
    }
   },
   "outputs": [],
   "source": [
    "#DO NOT ALTER THIS CELL\n",
    "#HIDDEN TEST CASES FOR find_covariance_matrix\n"
   ]
  },
  {
   "cell_type": "markdown",
   "metadata": {
    "deletable": false,
    "editable": false,
    "nbgrader": {
     "cell_type": "markdown",
     "checksum": "cd402e4e6d41faa8bcd5f7f8a8946963",
     "grade": false,
     "grade_id": "cell-dabaa22556056316",
     "locked": true,
     "schema_version": 3,
     "solution": false
    }
   },
   "source": [
    "Now let's plot the centered data and the eigen vectors in the same figure"
   ]
  },
  {
   "cell_type": "code",
   "execution_count": 306,
   "metadata": {
    "deletable": false,
    "editable": false,
    "nbgrader": {
     "cell_type": "code",
     "checksum": "ca0ad2598f45eae9f8ae9ffca974c656",
     "grade": false,
     "grade_id": "cell-86b9c744415dd515",
     "locked": true,
     "schema_version": 3,
     "solution": false,
     "task": false
    }
   },
   "outputs": [
    {
     "name": "stdout",
     "output_type": "stream",
     "text": [
      "(array([ 0.17086877, 13.01221544]), array([[-0.908999  , -0.41679829],\n",
      "       [ 0.41679829, -0.908999  ]]))\n"
     ]
    },
    {
     "data": {
      "image/png": "[encoded data removed]",
      "text/plain": [
       "<Figure size 432x288 with 1 Axes>"
      ]
     },
     "metadata": {
      "needs_background": "light"
     },
     "output_type": "display_data"
    }
   ],
   "source": [
    "# We will use the simulated X, the one we generated in one of the above cells\n",
    "X_centered = center(X)\n",
    "covariance = find_covariance_matrix(X_centered)\n",
    "eigenVals, eigenVecs = find_eigen_decomposition(covariance)\n",
    "\n",
    "plot_vectors(eigenVecs, ['red', 'blue'])\n",
    "plt.plot(X_centered[:,0], X_centered[:,1], '*')\n",
    "plt.xlim(-3, 3)\n",
    "plt.ylim(-3, 3)\n",
    "plt.show()"
   ]
  },
  {
   "cell_type": "code",
   "execution_count": 318,
   "metadata": {
    "deletable": false,
    "nbgrader": {
     "cell_type": "code",
     "checksum": "5120ee7bfb5d6787a4fd75141f6b9c0e",
     "grade": false,
     "grade_id": "cell-365c5fe2dd253c56",
     "locked": false,
     "schema_version": 3,
     "solution": true
    }
   },
   "outputs": [],
   "source": [
    "def two_dimensional_pca(X_centered, eigenValues, eigenVecs):\n",
    "    '''\n",
    "    using X_centered, eigenValues, eigenVecs as obtained above\n",
    "    apply pca on X_centered and chose the principal component\n",
    "    return the new matrix\n",
    "    '''\n",
    "    \n",
    "    # YOUR CODE HERE\n",
    "    eigenvec_sorted = eigenVecs[:, eigenValues.argsort()[::-1]]\n",
    "    print(eigenvec_sorted)\n",
    "    max_eigenvec = eigenvec_sorted[:, 0]\n",
    "    print(max_eigenvec)\n",
    "    transformed_X = apply_linear_transform(X_centered, max_eigenvec)\n",
    "    print(X_centered.shape, max_eigenvec.shape, transformed_X.shape)\n",
    "    return transformed_X\n",
    "    #return max_eigenvec"
   ]
  },
  {
   "cell_type": "code",
   "execution_count": 323,
   "metadata": {},
   "outputs": [
    {
     "name": "stdout",
     "output_type": "stream",
     "text": [
      "[[-0.41679829 -0.908999  ]\n",
      " [-0.908999    0.41679829]]\n",
      "[-0.41679829 -0.908999  ]\n",
      "(100, 2) (2,) (100,)\n"
     ]
    },
    {
     "data": {
      "image/png": "[encoded data removed]",
      "text/plain": [
       "<Figure size 432x288 with 1 Axes>"
      ]
     },
     "metadata": {
      "needs_background": "light"
     },
     "output_type": "display_data"
    }
   ],
   "source": [
    "X = two_dimensional_pca(X_centered, eigenVals, eigenVecs)\n",
    "plt.plot(X[:], np.zeros(100), '*')\n",
    "plt.xlim(-3, 3)\n",
    "plot_vectors(eigenVecs, ['red', 'blue'])\n",
    "plt.ylim(-3, 3)\n",
    "plt.show()"
   ]
  },
  {
   "cell_type": "code",
   "execution_count": 23,
   "metadata": {
    "deletable": false,
    "editable": false,
    "nbgrader": {
     "cell_type": "code",
     "checksum": "a3c3ec87ba2efe2ad8f0e89335e85cee",
     "grade": true,
     "grade_id": "cell-f8a28e82ea7c8e1d",
     "locked": true,
     "points": 1,
     "schema_version": 3,
     "solution": false
    }
   },
   "outputs": [],
   "source": [
    "#DO NOT ALTER THIS CELL\n",
    "#HIDDEN TEST CASES FOR two_dimensional_pca on the data X created in the above cells\n"
   ]
  },
  {
   "cell_type": "markdown",
   "metadata": {
    "deletable": false,
    "editable": false,
    "nbgrader": {
     "cell_type": "markdown",
     "checksum": "e349cf0eb519590263227486b4b820fd",
     "grade": false,
     "grade_id": "cell-bae36247dbb3680b",
     "locked": true,
     "schema_version": 3,
     "solution": false
    }
   },
   "source": [
    "**Inline Questions:** <br> \n",
    "1) Can you identify the color of the line which points to the direction of maximum variance? <br>\n",
    "2) Look at the Graph below and explain if PCA can be applied on this dataset or not? Do give reason. <br>\n",
    "3) Can you apply PCA to categorical variables? (Answer to this will give you hints for the next excercise)\n",
    "\n",
    "![Plot](images/pca_inline.png)"
   ]
  },
  {
   "cell_type": "markdown",
   "metadata": {
    "deletable": false,
    "editable": false,
    "nbgrader": {
     "cell_type": "markdown",
     "checksum": "71f5d795ba1e0c5fcae215a1bd3e8f3e",
     "grade": false,
     "grade_id": "cell-67cd484a33c21216",
     "locked": true,
     "points": 1,
     "schema_version": 3,
     "solution": false,
     "task": true
    }
   },
   "source": [
    "Answers:"
   ]
  },
  {
   "cell_type": "markdown",
   "metadata": {},
   "source": [
    "## PCA on a large dataset\n",
    "## About Dataset:\n",
    "Task: Reducing the dimesions for predicting house prices.\n",
    "The dataset is stored in the file **'data_pca.csv'**, it has 15 numerical columns and 2 categorical columns (columns are labeled as $X0$....$X16$), in an imaginary world, all these columns have certain significance towards prediciton of final house prices. Your task is simple, apply PCA to reduce the number of dimensions. \n",
    "\n",
    "Now implement the following functions for getting the final dataset with reduced dimensions. Keep the top $k (k=0...10)$ principal components."
   ]
  },
  {
   "cell_type": "code",
   "execution_count": 357,
   "metadata": {
    "deletable": false,
    "nbgrader": {
     "cell_type": "code",
     "checksum": "7ae882beb26b978293b685a386a4ff59",
     "grade": false,
     "grade_id": "cell-b2744694d03e082f",
     "locked": false,
     "schema_version": 3,
     "solution": true,
     "task": false
    }
   },
   "outputs": [],
   "source": [
    "def read_data(name):\n",
    "    '''\n",
    "    read the CSV file and return the corresponding dataframe\n",
    "    don't forget to remove the index column (check the name properly)\n",
    "    '''\n",
    "    # YOUR CODE HERE\n",
    "    data = pd.read_csv(name, index_col=0)\n",
    "    data.drop(data.columns[0], axis=1, inplace=True)\n",
    "    return data"
   ]
  },
  {
   "cell_type": "code",
   "execution_count": 358,
   "metadata": {
    "deletable": false,
    "editable": false,
    "nbgrader": {
     "cell_type": "code",
     "checksum": "7b3d094409d62a877c7bf077e9cf42a8",
     "grade": true,
     "grade_id": "cell-7c4fe4ab88e97f99",
     "locked": true,
     "points": 1,
     "schema_version": 3,
     "solution": false
    }
   },
   "outputs": [],
   "source": [
    "#input the path top the CSV file\n",
    "#DO NOT ALTER THIS CELL\n",
    "#HIDDEN TEST CASES FOR read_data\n",
    "\n",
    "PATH_TO_CSV_FILE = './data_pca.csv'"
   ]
  },
  {
   "cell_type": "code",
   "execution_count": 388,
   "metadata": {
    "deletable": false,
    "nbgrader": {
     "cell_type": "code",
     "checksum": "753b8c8eddf09d81d8cf9890b402cd3e",
     "grade": false,
     "grade_id": "cell-b944aaa1481e4ea8",
     "locked": false,
     "schema_version": 3,
     "solution": true
    }
   },
   "outputs": [],
   "source": [
    "def apply_pca(data,k):\n",
    "    '''\n",
    "    data: a pandas data frame\n",
    "    Implement PCA on the dataset and return the transformed dataset as a pandas dataframe\n",
    "    keep k pricipal components\n",
    "    remember the dataset MUST have the chosen components and the columns you decide to exclude \n",
    "    from PCA calculation.\n",
    "    The returned dataframe should NOT have the index column\n",
    "    The returned dataframe should have similar column names as original and must be in the \n",
    "    SAME ORDER as in the original data, example : if X0 and X1 are chosen then X0 must appear\n",
    "    appear before X1 in the returned frame as it appears before in the original frame as well.\n",
    "    \n",
    "    Try to verify the function on your own :)\n",
    "    '''\n",
    "    # YOUR CODE HERE\n",
    "    data['X16'] = data['X16'].apply(lambda x: ord(x) - ord('A'))\n",
    "    X = data.to_numpy()\n",
    "    X_centered = center(X)\n",
    "    covariance = find_covariance_matrix(X_centered)\n",
    "    eigenVals, eigenVecs = find_eigen_decomposition(covariance)\n",
    "    eigenvec_sorted = eigenVecs[:, eigenVals.argsort()[::-1]]\n",
    "    #print(eigenvec_sorted)\n",
    "    max_eigenvec = eigenvec_sorted[:, 0:k]\n",
    "    #print(max_eigenvec)\n",
    "    transformed_X = apply_linear_transform(X_centered, max_eigenvec)\n",
    "    #print(X_centered.shape, max_eigenvec.shape, transformed_X.shape)\n",
    "    return transformed_X"
   ]
  },
  {
   "cell_type": "code",
   "execution_count": 385,
   "metadata": {
    "deletable": false,
    "editable": false,
    "nbgrader": {
     "cell_type": "code",
     "checksum": "a03243ecad946cc792eaeaf6759cd40e",
     "grade": true,
     "grade_id": "cell-4db7e2b7485907b8",
     "locked": true,
     "points": 4,
     "schema_version": 3,
     "solution": false
    }
   },
   "outputs": [],
   "source": [
    "PATH_TO_CSV_FILE = './data_pca.csv'\n",
    "data = pd.read_csv(PATH_TO_CSV_FILE)\n",
    "#DO NOT ALTER THIS CELL\n",
    "#HIDDEN TEST CASES FOR apply_pca"
   ]
  },
  {
   "cell_type": "code",
   "execution_count": 394,
   "metadata": {},
   "outputs": [
    {
     "name": "stdout",
     "output_type": "stream",
     "text": [
      "(array([ 2.11443018e+10,  5.02761381e+02,  3.82347843e+02,  3.00640080e+02,\n",
      "        1.66490662e+02,  1.30881935e+02,  5.32311338e+01,  1.06474207e+01,\n",
      "        8.42251509e+00,  7.37254773e+00,  1.10314479e+00,  1.64998684e-01,\n",
      "       -6.89228614e-10, -2.26098318e-12, -4.83624654e-15,  8.66700187e-16,\n",
      "        9.15155716e-17]), array([[ 7.64401661e-07, -2.40279242e-02, -1.12650818e-02,\n",
      "        -5.84092980e-02,  9.60683756e-02,  2.10684467e-01,\n",
      "        -3.19524463e-02, -2.84428039e-04,  5.53014966e-03,\n",
      "         2.25316839e-03,  5.71555741e-03,  1.09361257e-03,\n",
      "         9.70140781e-01, -6.49997268e-03,  3.33388422e-05,\n",
      "        -3.68457858e-05, -2.85530092e-06],\n",
      "       [-2.09705874e-07, -7.81781421e-02, -3.84605146e-02,\n",
      "         1.12764783e-01, -1.53019698e-01,  2.35866214e-01,\n",
      "         9.47213456e-01,  1.15939321e-02, -2.56163629e-02,\n",
      "        -5.50099129e-03, -5.09900895e-02, -3.31263602e-03,\n",
      "        -5.67301806e-11,  1.07625653e-11,  2.36768749e-12,\n",
      "        -1.19129091e-12, -6.10927312e-14],\n",
      "       [-1.65358971e-06, -5.99067016e-02, -3.80786508e-02,\n",
      "        -1.71635226e-01, -5.37106074e-02, -3.00920458e-02,\n",
      "         1.28969109e-02, -9.74268653e-04,  7.16288712e-04,\n",
      "         1.25802703e-03,  1.77530212e-03,  1.09703593e-03,\n",
      "         1.83780015e-03,  9.61650743e-01, -5.33116768e-05,\n",
      "        -8.79187931e-04,  6.82087370e-05],\n",
      "       [ 2.61903822e-07, -5.69143398e-03,  9.91096520e-03,\n",
      "        -1.37619916e-02, -1.31865940e-02,  2.33196101e-02,\n",
      "        -3.55617089e-02,  2.79388646e-01, -5.71717479e-01,\n",
      "        -7.61405199e-01, -1.06843161e-01, -4.03166521e-02,\n",
      "        -2.28855592e-11,  4.16448611e-12,  9.21669582e-13,\n",
      "        -4.63253204e-13, -2.37452203e-14],\n",
      "       [ 3.05760665e-06, -9.61116967e-02, -4.50603271e-02,\n",
      "        -2.33637192e-01,  3.84273503e-01,  8.42737868e-01,\n",
      "        -1.27809785e-01, -1.13771216e-03,  2.21205986e-02,\n",
      "         9.01267355e-03,  2.28622297e-02,  4.37445031e-03,\n",
      "        -2.42535195e-01,  1.62499317e-03, -8.33471085e-06,\n",
      "         9.21144659e-06,  7.13825237e-07],\n",
      "       [-5.11130367e-06, -1.04032365e-02,  1.02419393e-02,\n",
      "         8.11131036e-04,  2.35510198e-03, -4.35931634e-03,\n",
      "         8.88906490e-03, -5.09018006e-01,  5.86059537e-01,\n",
      "        -5.98354296e-01, -1.96020944e-01, -2.57966148e-02,\n",
      "        -2.27585098e-11,  4.18180257e-12,  9.28935406e-13,\n",
      "        -4.67061370e-13, -2.39370925e-14],\n",
      "       [-8.26794857e-06, -2.99533508e-01, -1.90393254e-01,\n",
      "        -8.58176132e-01, -2.68553037e-01, -1.50460229e-01,\n",
      "         6.44845545e-02, -4.87134327e-03,  3.58144356e-03,\n",
      "         6.29013517e-03,  8.87651060e-03,  5.48517965e-03,\n",
      "        -3.67560031e-04, -1.92330149e-01,  1.06623354e-05,\n",
      "         1.75837586e-04, -1.36417474e-05],\n",
      "       [ 9.36696966e-06, -9.16974383e-01, -1.37886371e-01,\n",
      "         3.33237990e-01,  7.12323066e-02, -6.67262096e-02,\n",
      "        -9.19918201e-02,  2.70817917e-02,  1.28879948e-02,\n",
      "        -2.25281484e-03,  1.49081654e-02,  9.00030154e-03,\n",
      "         1.71097521e-05, -1.82869936e-02,  9.94128340e-02,\n",
      "        -2.10824407e-03,  1.82370978e-04],\n",
      "       [-7.44104652e-06, -5.22860529e-03,  2.26716705e-02,\n",
      "         4.02681636e-02, -2.07787910e-01,  9.67380836e-02,\n",
      "        -6.15397465e-02,  1.09144017e-02,  1.43380709e-02,\n",
      "         1.93665642e-03,  2.99218531e-03, -1.42835843e-03,\n",
      "         1.08087021e-08, -5.99354914e-06, -1.45134781e-02,\n",
      "        -5.67342930e-01, -9.69052205e-01],\n",
      "       [ 9.36696966e-07, -9.16974383e-02, -1.37886371e-02,\n",
      "         3.33237990e-02,  7.12323066e-03, -6.67262096e-03,\n",
      "        -9.19918201e-03,  2.70817917e-03,  1.28879948e-03,\n",
      "        -2.25281484e-04,  1.49081654e-03,  9.00030154e-04,\n",
      "        -1.71097451e-04,  1.82869936e-01, -9.94128340e-01,\n",
      "         2.10824407e-02, -1.82370978e-03],\n",
      "       [-3.46485208e-06, -1.97944560e-01,  9.54807400e-01,\n",
      "        -1.49567658e-01,  5.04624098e-02, -2.74765993e-02,\n",
      "         5.48295066e-02, -4.20381422e-03, -8.44593126e-03,\n",
      "         1.82273306e-02, -5.80374434e-03, -5.26102754e-03,\n",
      "        -4.95927530e-06,  9.39813155e-03,  5.66060265e-03,\n",
      "        -1.14678237e-01, -6.69787208e-03],\n",
      "       [-4.94978868e-07, -2.82777942e-02,  1.36401057e-01,\n",
      "        -2.13668082e-02,  7.20891568e-03, -3.92522847e-03,\n",
      "         7.83278666e-03, -6.00544888e-04, -1.20656161e-03,\n",
      "         2.60390437e-03, -8.29106334e-04, -7.51575362e-04,\n",
      "         3.47149036e-05, -6.57869209e-02, -3.96242185e-02,\n",
      "         8.02747661e-01,  4.68851046e-02],\n",
      "       [-3.09754757e-06,  2.60330035e-02,  7.17448280e-03,\n",
      "        -2.28996475e-02,  5.24187323e-02, -3.43973533e-02,\n",
      "         2.46445833e-02,  8.11201834e-01,  5.64855284e-01,\n",
      "        -1.22535923e-01, -3.91604958e-02, -2.34447160e-02,\n",
      "        -5.27269119e-12,  9.91224749e-13,  2.19843726e-13,\n",
      "        -1.10225149e-13, -5.53404094e-15],\n",
      "       [-2.97641861e-05, -2.09144212e-02,  9.06866819e-02,\n",
      "         1.61072654e-01, -8.31151642e-01,  3.86952334e-01,\n",
      "        -2.46158986e-01,  4.36576068e-02,  5.73522837e-02,\n",
      "         7.74662569e-03,  1.19687412e-02, -5.71343373e-03,\n",
      "        -2.69165197e-09,  1.49838532e-06,  3.62836952e-03,\n",
      "         1.41835732e-01,  2.42263051e-01],\n",
      "       [-1.42773945e-08, -6.94395174e-03, -6.98629975e-03,\n",
      "        -8.49914608e-04,  4.71804900e-03, -2.36970924e-03,\n",
      "         6.84190078e-03, -2.34596672e-02,  7.08214053e-03,\n",
      "         1.39330177e-02,  1.69612029e-01, -9.85020143e-01,\n",
      "        -3.77632323e-11,  6.16263155e-12,  1.42787085e-12,\n",
      "        -7.14641888e-13, -3.64212284e-14],\n",
      "       [-2.30484060e-08,  1.41708988e-02,  1.25378148e-02,\n",
      "         9.74916025e-03, -4.76043349e-03, -1.09091176e-02,\n",
      "         5.57837722e-02, -3.60486826e-02,  7.50788719e-02,\n",
      "        -2.15544567e-01,  9.57188702e-01,  1.63362871e-01,\n",
      "         1.35565933e-10, -2.49041302e-11, -5.52935374e-12,\n",
      "         2.77937912e-12,  1.42463161e-13],\n",
      "       [-9.99999999e-01, -5.06334942e-06, -6.12155229e-06,\n",
      "         5.24709069e-06,  3.01920625e-05, -8.65395596e-06,\n",
      "         5.41968377e-06, -9.10466049e-07, -6.51226583e-06,\n",
      "         2.88889210e-06,  8.62453050e-07,  4.56388883e-07,\n",
      "        -9.94659153e-17,  1.39830986e-17,  2.83989995e-18,\n",
      "        -1.43300846e-18, -7.09776846e-20]]))\n",
      "(50, 2)\n"
     ]
    }
   ],
   "source": [
    "#apply_pca(read_data(PATH_TO_CSV_FILE).to_numpy(), 2)\n",
    "df = read_data(PATH_TO_CSV_FILE)\n",
    "\n",
    "print(apply_pca(df, 2).shape)"
   ]
  },
  {
   "cell_type": "code",
   "execution_count": null,
   "metadata": {},
   "outputs": [],
   "source": []
  }
 ],
 "metadata": {
  "kernelspec": {
   "display_name": "Python 3",
   "language": "python",
   "name": "python3"
  },
  "language_info": {
   "codemirror_mode": {
    "name": "ipython",
    "version": 3
   },
   "file_extension": ".py",
   "mimetype": "text/x-python",
   "name": "python",
   "nbconvert_exporter": "python",
   "pygments_lexer": "ipython3",
   "version": "3.7.4"
  }
 },
 "nbformat": 4,
 "nbformat_minor": 4
}
